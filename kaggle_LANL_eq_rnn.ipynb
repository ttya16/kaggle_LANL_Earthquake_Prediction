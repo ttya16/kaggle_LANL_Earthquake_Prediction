{
  "nbformat": 4,
  "nbformat_minor": 0,
  "metadata": {
    "colab": {
      "name": "kaggle_LANL_eq_rnn.ipynb",
      "version": "0.3.2",
      "provenance": [],
      "collapsed_sections": [],
      "include_colab_link": true
    },
    "kernelspec": {
      "name": "python3",
      "display_name": "Python 3"
    },
    "accelerator": "GPU"
  },
  "cells": [
    {
      "cell_type": "markdown",
      "metadata": {
        "id": "view-in-github",
        "colab_type": "text"
      },
      "source": [
        "<a href=\"https://colab.research.google.com/github/ttya16/kaggle_LANL_Earthquake_Prediction/blob/master/kaggle_LANL_eq_rnn.ipynb\" target=\"_parent\"><img src=\"https://colab.research.google.com/assets/colab-badge.svg\" alt=\"Open In Colab\"/></a>"
      ]
    },
    {
      "cell_type": "code",
      "metadata": {
        "id": "hL9yxdt7h4--",
        "colab_type": "code",
        "outputId": "e570495d-4781-402f-e143-b7a34a245a0f",
        "colab": {
          "base_uri": "https://localhost:8080/",
          "height": 484
        }
      },
      "source": [
        "#kaggleコンペのデータをダウンロードするための準備\n",
        "!pip install kaggle\n",
        "!pip install numpy==1.16.0 #numpy.quantileを使いたいため"
      ],
      "execution_count": 1,
      "outputs": [
        {
          "output_type": "stream",
          "text": [
            "Requirement already satisfied: kaggle in /usr/local/lib/python3.6/dist-packages (1.5.3)\n",
            "Requirement already satisfied: requests in /usr/local/lib/python3.6/dist-packages (from kaggle) (2.21.0)\n",
            "Requirement already satisfied: python-dateutil in /usr/local/lib/python3.6/dist-packages (from kaggle) (2.5.3)\n",
            "Requirement already satisfied: tqdm in /usr/local/lib/python3.6/dist-packages (from kaggle) (4.28.1)\n",
            "Requirement already satisfied: six>=1.10 in /usr/local/lib/python3.6/dist-packages (from kaggle) (1.12.0)\n",
            "Requirement already satisfied: urllib3<1.25,>=1.21.1 in /usr/local/lib/python3.6/dist-packages (from kaggle) (1.24.3)\n",
            "Requirement already satisfied: python-slugify in /usr/local/lib/python3.6/dist-packages (from kaggle) (3.0.2)\n",
            "Requirement already satisfied: certifi in /usr/local/lib/python3.6/dist-packages (from kaggle) (2019.3.9)\n",
            "Requirement already satisfied: idna<2.9,>=2.5 in /usr/local/lib/python3.6/dist-packages (from requests->kaggle) (2.8)\n",
            "Requirement already satisfied: chardet<3.1.0,>=3.0.2 in /usr/local/lib/python3.6/dist-packages (from requests->kaggle) (3.0.4)\n",
            "Requirement already satisfied: text-unidecode==1.2 in /usr/local/lib/python3.6/dist-packages (from python-slugify->kaggle) (1.2)\n",
            "Collecting numpy==1.16.0\n",
            "\u001b[?25l  Downloading https://files.pythonhosted.org/packages/7b/74/54c5f9bb9bd4dae27a61ec1b39076a39d359b3fb7ba15da79ef23858a9d8/numpy-1.16.0-cp36-cp36m-manylinux1_x86_64.whl (17.3MB)\n",
            "\u001b[K     |████████████████████████████████| 17.3MB 21.9MB/s \n",
            "\u001b[31mERROR: datascience 0.10.6 has requirement folium==0.2.1, but you'll have folium 0.8.3 which is incompatible.\u001b[0m\n",
            "\u001b[31mERROR: albumentations 0.1.12 has requirement imgaug<0.2.7,>=0.2.5, but you'll have imgaug 0.2.9 which is incompatible.\u001b[0m\n",
            "\u001b[?25hInstalling collected packages: numpy\n",
            "  Found existing installation: numpy 1.16.3\n",
            "    Uninstalling numpy-1.16.3:\n",
            "      Successfully uninstalled numpy-1.16.3\n",
            "Successfully installed numpy-1.16.0\n"
          ],
          "name": "stdout"
        },
        {
          "output_type": "display_data",
          "data": {
            "application/vnd.colab-display-data+json": {
              "pip_warning": {
                "packages": [
                  "numpy"
                ]
              }
            }
          },
          "metadata": {
            "tags": []
          }
        }
      ]
    },
    {
      "cell_type": "code",
      "metadata": {
        "id": "ajvhphtGiHus",
        "colab_type": "code",
        "outputId": "30358db3-772a-49ab-d20e-9e75894a674e",
        "colab": {
          "resources": {
            "http://localhost:8080/nbextensions/google.colab/files.js": {
              "data": "Ly8gQ29weXJpZ2h0IDIwMTcgR29vZ2xlIExMQwovLwovLyBMaWNlbnNlZCB1bmRlciB0aGUgQXBhY2hlIExpY2Vuc2UsIFZlcnNpb24gMi4wICh0aGUgIkxpY2Vuc2UiKTsKLy8geW91IG1heSBub3QgdXNlIHRoaXMgZmlsZSBleGNlcHQgaW4gY29tcGxpYW5jZSB3aXRoIHRoZSBMaWNlbnNlLgovLyBZb3UgbWF5IG9idGFpbiBhIGNvcHkgb2YgdGhlIExpY2Vuc2UgYXQKLy8KLy8gICAgICBodHRwOi8vd3d3LmFwYWNoZS5vcmcvbGljZW5zZXMvTElDRU5TRS0yLjAKLy8KLy8gVW5sZXNzIHJlcXVpcmVkIGJ5IGFwcGxpY2FibGUgbGF3IG9yIGFncmVlZCB0byBpbiB3cml0aW5nLCBzb2Z0d2FyZQovLyBkaXN0cmlidXRlZCB1bmRlciB0aGUgTGljZW5zZSBpcyBkaXN0cmlidXRlZCBvbiBhbiAiQVMgSVMiIEJBU0lTLAovLyBXSVRIT1VUIFdBUlJBTlRJRVMgT1IgQ09ORElUSU9OUyBPRiBBTlkgS0lORCwgZWl0aGVyIGV4cHJlc3Mgb3IgaW1wbGllZC4KLy8gU2VlIHRoZSBMaWNlbnNlIGZvciB0aGUgc3BlY2lmaWMgbGFuZ3VhZ2UgZ292ZXJuaW5nIHBlcm1pc3Npb25zIGFuZAovLyBsaW1pdGF0aW9ucyB1bmRlciB0aGUgTGljZW5zZS4KCi8qKgogKiBAZmlsZW92ZXJ2aWV3IEhlbHBlcnMgZm9yIGdvb2dsZS5jb2xhYiBQeXRob24gbW9kdWxlLgogKi8KKGZ1bmN0aW9uKHNjb3BlKSB7CmZ1bmN0aW9uIHNwYW4odGV4dCwgc3R5bGVBdHRyaWJ1dGVzID0ge30pIHsKICBjb25zdCBlbGVtZW50ID0gZG9jdW1lbnQuY3JlYXRlRWxlbWVudCgnc3BhbicpOwogIGVsZW1lbnQudGV4dENvbnRlbnQgPSB0ZXh0OwogIGZvciAoY29uc3Qga2V5IG9mIE9iamVjdC5rZXlzKHN0eWxlQXR0cmlidXRlcykpIHsKICAgIGVsZW1lbnQuc3R5bGVba2V5XSA9IHN0eWxlQXR0cmlidXRlc1trZXldOwogIH0KICByZXR1cm4gZWxlbWVudDsKfQoKLy8gTWF4IG51bWJlciBvZiBieXRlcyB3aGljaCB3aWxsIGJlIHVwbG9hZGVkIGF0IGEgdGltZS4KY29uc3QgTUFYX1BBWUxPQURfU0laRSA9IDEwMCAqIDEwMjQ7Ci8vIE1heCBhbW91bnQgb2YgdGltZSB0byBibG9jayB3YWl0aW5nIGZvciB0aGUgdXNlci4KY29uc3QgRklMRV9DSEFOR0VfVElNRU9VVF9NUyA9IDMwICogMTAwMDsKCmZ1bmN0aW9uIF91cGxvYWRGaWxlcyhpbnB1dElkLCBvdXRwdXRJZCkgewogIGNvbnN0IHN0ZXBzID0gdXBsb2FkRmlsZXNTdGVwKGlucHV0SWQsIG91dHB1dElkKTsKICBjb25zdCBvdXRwdXRFbGVtZW50ID0gZG9jdW1lbnQuZ2V0RWxlbWVudEJ5SWQob3V0cHV0SWQpOwogIC8vIENhY2hlIHN0ZXBzIG9uIHRoZSBvdXRwdXRFbGVtZW50IHRvIG1ha2UgaXQgYXZhaWxhYmxlIGZvciB0aGUgbmV4dCBjYWxsCiAgLy8gdG8gdXBsb2FkRmlsZXNDb250aW51ZSBmcm9tIFB5dGhvbi4KICBvdXRwdXRFbGVtZW50LnN0ZXBzID0gc3RlcHM7CgogIHJldHVybiBfdXBsb2FkRmlsZXNDb250aW51ZShvdXRwdXRJZCk7Cn0KCi8vIFRoaXMgaXMgcm91Z2hseSBhbiBhc3luYyBnZW5lcmF0b3IgKG5vdCBzdXBwb3J0ZWQgaW4gdGhlIGJyb3dzZXIgeWV0KSwKLy8gd2hlcmUgdGhlcmUgYXJlIG11bHRpcGxlIGFzeW5jaHJvbm91cyBzdGVwcyBhbmQgdGhlIFB5dGhvbiBzaWRlIGlzIGdvaW5nCi8vIHRvIHBvbGwgZm9yIGNvbXBsZXRpb24gb2YgZWFjaCBzdGVwLgovLyBUaGlzIHVzZXMgYSBQcm9taXNlIHRvIGJsb2NrIHRoZSBweXRob24gc2lkZSBvbiBjb21wbGV0aW9uIG9mIGVhY2ggc3RlcCwKLy8gdGhlbiBwYXNzZXMgdGhlIHJlc3VsdCBvZiB0aGUgcHJldmlvdXMgc3RlcCBhcyB0aGUgaW5wdXQgdG8gdGhlIG5leHQgc3RlcC4KZnVuY3Rpb24gX3VwbG9hZEZpbGVzQ29udGludWUob3V0cHV0SWQpIHsKICBjb25zdCBvdXRwdXRFbGVtZW50ID0gZG9jdW1lbnQuZ2V0RWxlbWVudEJ5SWQob3V0cHV0SWQpOwogIGNvbnN0IHN0ZXBzID0gb3V0cHV0RWxlbWVudC5zdGVwczsKCiAgY29uc3QgbmV4dCA9IHN0ZXBzLm5leHQob3V0cHV0RWxlbWVudC5sYXN0UHJvbWlzZVZhbHVlKTsKICByZXR1cm4gUHJvbWlzZS5yZXNvbHZlKG5leHQudmFsdWUucHJvbWlzZSkudGhlbigodmFsdWUpID0+IHsKICAgIC8vIENhY2hlIHRoZSBsYXN0IHByb21pc2UgdmFsdWUgdG8gbWFrZSBpdCBhdmFpbGFibGUgdG8gdGhlIG5leHQKICAgIC8vIHN0ZXAgb2YgdGhlIGdlbmVyYXRvci4KICAgIG91dHB1dEVsZW1lbnQubGFzdFByb21pc2VWYWx1ZSA9IHZhbHVlOwogICAgcmV0dXJuIG5leHQudmFsdWUucmVzcG9uc2U7CiAgfSk7Cn0KCi8qKgogKiBHZW5lcmF0b3IgZnVuY3Rpb24gd2hpY2ggaXMgY2FsbGVkIGJldHdlZW4gZWFjaCBhc3luYyBzdGVwIG9mIHRoZSB1cGxvYWQKICogcHJvY2Vzcy4KICogQHBhcmFtIHtzdHJpbmd9IGlucHV0SWQgRWxlbWVudCBJRCBvZiB0aGUgaW5wdXQgZmlsZSBwaWNrZXIgZWxlbWVudC4KICogQHBhcmFtIHtzdHJpbmd9IG91dHB1dElkIEVsZW1lbnQgSUQgb2YgdGhlIG91dHB1dCBkaXNwbGF5LgogKiBAcmV0dXJuIHshSXRlcmFibGU8IU9iamVjdD59IEl0ZXJhYmxlIG9mIG5leHQgc3RlcHMuCiAqLwpmdW5jdGlvbiogdXBsb2FkRmlsZXNTdGVwKGlucHV0SWQsIG91dHB1dElkKSB7CiAgY29uc3QgaW5wdXRFbGVtZW50ID0gZG9jdW1lbnQuZ2V0RWxlbWVudEJ5SWQoaW5wdXRJZCk7CiAgaW5wdXRFbGVtZW50LmRpc2FibGVkID0gZmFsc2U7CgogIGNvbnN0IG91dHB1dEVsZW1lbnQgPSBkb2N1bWVudC5nZXRFbGVtZW50QnlJZChvdXRwdXRJZCk7CiAgb3V0cHV0RWxlbWVudC5pbm5lckhUTUwgPSAnJzsKCiAgY29uc3QgcGlja2VkUHJvbWlzZSA9IG5ldyBQcm9taXNlKChyZXNvbHZlKSA9PiB7CiAgICBpbnB1dEVsZW1lbnQuYWRkRXZlbnRMaXN0ZW5lcignY2hhbmdlJywgKGUpID0+IHsKICAgICAgcmVzb2x2ZShlLnRhcmdldC5maWxlcyk7CiAgICB9KTsKICB9KTsKCiAgY29uc3QgY2FuY2VsID0gZG9jdW1lbnQuY3JlYXRlRWxlbWVudCgnYnV0dG9uJyk7CiAgaW5wdXRFbGVtZW50LnBhcmVudEVsZW1lbnQuYXBwZW5kQ2hpbGQoY2FuY2VsKTsKICBjYW5jZWwudGV4dENvbnRlbnQgPSAnQ2FuY2VsIHVwbG9hZCc7CiAgY29uc3QgY2FuY2VsUHJvbWlzZSA9IG5ldyBQcm9taXNlKChyZXNvbHZlKSA9PiB7CiAgICBjYW5jZWwub25jbGljayA9ICgpID0+IHsKICAgICAgcmVzb2x2ZShudWxsKTsKICAgIH07CiAgfSk7CgogIC8vIENhbmNlbCB1cGxvYWQgaWYgdXNlciBoYXNuJ3QgcGlja2VkIGFueXRoaW5nIGluIHRpbWVvdXQuCiAgY29uc3QgdGltZW91dFByb21pc2UgPSBuZXcgUHJvbWlzZSgocmVzb2x2ZSkgPT4gewogICAgc2V0VGltZW91dCgoKSA9PiB7CiAgICAgIHJlc29sdmUobnVsbCk7CiAgICB9LCBGSUxFX0NIQU5HRV9USU1FT1VUX01TKTsKICB9KTsKCiAgLy8gV2FpdCBmb3IgdGhlIHVzZXIgdG8gcGljayB0aGUgZmlsZXMuCiAgY29uc3QgZmlsZXMgPSB5aWVsZCB7CiAgICBwcm9taXNlOiBQcm9taXNlLnJhY2UoW3BpY2tlZFByb21pc2UsIHRpbWVvdXRQcm9taXNlLCBjYW5jZWxQcm9taXNlXSksCiAgICByZXNwb25zZTogewogICAgICBhY3Rpb246ICdzdGFydGluZycsCiAgICB9CiAgfTsKCiAgaWYgKCFmaWxlcykgewogICAgcmV0dXJuIHsKICAgICAgcmVzcG9uc2U6IHsKICAgICAgICBhY3Rpb246ICdjb21wbGV0ZScsCiAgICAgIH0KICAgIH07CiAgfQoKICBjYW5jZWwucmVtb3ZlKCk7CgogIC8vIERpc2FibGUgdGhlIGlucHV0IGVsZW1lbnQgc2luY2UgZnVydGhlciBwaWNrcyBhcmUgbm90IGFsbG93ZWQuCiAgaW5wdXRFbGVtZW50LmRpc2FibGVkID0gdHJ1ZTsKCiAgZm9yIChjb25zdCBmaWxlIG9mIGZpbGVzKSB7CiAgICBjb25zdCBsaSA9IGRvY3VtZW50LmNyZWF0ZUVsZW1lbnQoJ2xpJyk7CiAgICBsaS5hcHBlbmQoc3BhbihmaWxlLm5hbWUsIHtmb250V2VpZ2h0OiAnYm9sZCd9KSk7CiAgICBsaS5hcHBlbmQoc3BhbigKICAgICAgICBgKCR7ZmlsZS50eXBlIHx8ICduL2EnfSkgLSAke2ZpbGUuc2l6ZX0gYnl0ZXMsIGAgKwogICAgICAgIGBsYXN0IG1vZGlmaWVkOiAkewogICAgICAgICAgICBmaWxlLmxhc3RNb2RpZmllZERhdGUgPyBmaWxlLmxhc3RNb2RpZmllZERhdGUudG9Mb2NhbGVEYXRlU3RyaW5nKCkgOgogICAgICAgICAgICAgICAgICAgICAgICAgICAgICAgICAgICAnbi9hJ30gLSBgKSk7CiAgICBjb25zdCBwZXJjZW50ID0gc3BhbignMCUgZG9uZScpOwogICAgbGkuYXBwZW5kQ2hpbGQocGVyY2VudCk7CgogICAgb3V0cHV0RWxlbWVudC5hcHBlbmRDaGlsZChsaSk7CgogICAgY29uc3QgZmlsZURhdGFQcm9taXNlID0gbmV3IFByb21pc2UoKHJlc29sdmUpID0+IHsKICAgICAgY29uc3QgcmVhZGVyID0gbmV3IEZpbGVSZWFkZXIoKTsKICAgICAgcmVhZGVyLm9ubG9hZCA9IChlKSA9PiB7CiAgICAgICAgcmVzb2x2ZShlLnRhcmdldC5yZXN1bHQpOwogICAgICB9OwogICAgICByZWFkZXIucmVhZEFzQXJyYXlCdWZmZXIoZmlsZSk7CiAgICB9KTsKICAgIC8vIFdhaXQgZm9yIHRoZSBkYXRhIHRvIGJlIHJlYWR5LgogICAgbGV0IGZpbGVEYXRhID0geWllbGQgewogICAgICBwcm9taXNlOiBmaWxlRGF0YVByb21pc2UsCiAgICAgIHJlc3BvbnNlOiB7CiAgICAgICAgYWN0aW9uOiAnY29udGludWUnLAogICAgICB9CiAgICB9OwoKICAgIC8vIFVzZSBhIGNodW5rZWQgc2VuZGluZyB0byBhdm9pZCBtZXNzYWdlIHNpemUgbGltaXRzLiBTZWUgYi82MjExNTY2MC4KICAgIGxldCBwb3NpdGlvbiA9IDA7CiAgICB3aGlsZSAocG9zaXRpb24gPCBmaWxlRGF0YS5ieXRlTGVuZ3RoKSB7CiAgICAgIGNvbnN0IGxlbmd0aCA9IE1hdGgubWluKGZpbGVEYXRhLmJ5dGVMZW5ndGggLSBwb3NpdGlvbiwgTUFYX1BBWUxPQURfU0laRSk7CiAgICAgIGNvbnN0IGNodW5rID0gbmV3IFVpbnQ4QXJyYXkoZmlsZURhdGEsIHBvc2l0aW9uLCBsZW5ndGgpOwogICAgICBwb3NpdGlvbiArPSBsZW5ndGg7CgogICAgICBjb25zdCBiYXNlNjQgPSBidG9hKFN0cmluZy5mcm9tQ2hhckNvZGUuYXBwbHkobnVsbCwgY2h1bmspKTsKICAgICAgeWllbGQgewogICAgICAgIHJlc3BvbnNlOiB7CiAgICAgICAgICBhY3Rpb246ICdhcHBlbmQnLAogICAgICAgICAgZmlsZTogZmlsZS5uYW1lLAogICAgICAgICAgZGF0YTogYmFzZTY0LAogICAgICAgIH0sCiAgICAgIH07CiAgICAgIHBlcmNlbnQudGV4dENvbnRlbnQgPQogICAgICAgICAgYCR7TWF0aC5yb3VuZCgocG9zaXRpb24gLyBmaWxlRGF0YS5ieXRlTGVuZ3RoKSAqIDEwMCl9JSBkb25lYDsKICAgIH0KICB9CgogIC8vIEFsbCBkb25lLgogIHlpZWxkIHsKICAgIHJlc3BvbnNlOiB7CiAgICAgIGFjdGlvbjogJ2NvbXBsZXRlJywKICAgIH0KICB9Owp9CgpzY29wZS5nb29nbGUgPSBzY29wZS5nb29nbGUgfHwge307CnNjb3BlLmdvb2dsZS5jb2xhYiA9IHNjb3BlLmdvb2dsZS5jb2xhYiB8fCB7fTsKc2NvcGUuZ29vZ2xlLmNvbGFiLl9maWxlcyA9IHsKICBfdXBsb2FkRmlsZXMsCiAgX3VwbG9hZEZpbGVzQ29udGludWUsCn07Cn0pKHNlbGYpOwo=",
              "ok": true,
              "headers": [
                [
                  "content-type",
                  "application/javascript"
                ]
              ],
              "status": 200,
              "status_text": ""
            }
          },
          "base_uri": "https://localhost:8080/",
          "height": 71
        }
      },
      "source": [
        "#import data files from kaggle\n",
        "from google.colab import files\n",
        "uploaded = files.upload()\n",
        "\n",
        "!mkdir -p ~/.kaggle/ && mv kaggle.json ~/.kaggle/ && chmod 600 ~/.kaggle/kaggle.json"
      ],
      "execution_count": 0,
      "outputs": [
        {
          "output_type": "display_data",
          "data": {
            "text/html": [
              "\n",
              "     <input type=\"file\" id=\"files-18b88c1f-552d-4e8b-8d41-44dbe4e2b488\" name=\"files[]\" multiple disabled />\n",
              "     <output id=\"result-18b88c1f-552d-4e8b-8d41-44dbe4e2b488\">\n",
              "      Upload widget is only available when the cell has been executed in the\n",
              "      current browser session. Please rerun this cell to enable.\n",
              "      </output>\n",
              "      <script src=\"/nbextensions/google.colab/files.js\"></script> "
            ],
            "text/plain": [
              "<IPython.core.display.HTML object>"
            ]
          },
          "metadata": {
            "tags": []
          }
        },
        {
          "output_type": "stream",
          "text": [
            "Saving kaggle.json to kaggle.json\n"
          ],
          "name": "stdout"
        }
      ]
    },
    {
      "cell_type": "code",
      "metadata": {
        "id": "O-VESDrQSwYI",
        "colab_type": "code",
        "outputId": "2adf8def-9dc5-4d04-fa3e-d7f705681fb6",
        "colab": {
          "base_uri": "https://localhost:8080/",
          "height": 391
        }
      },
      "source": [
        "!kaggle competitions list"
      ],
      "execution_count": 0,
      "outputs": [
        {
          "output_type": "stream",
          "text": [
            "ref                                                deadline             category            reward  teamCount  userHasEntered  \n",
            "-------------------------------------------------  -------------------  ---------------  ---------  ---------  --------------  \n",
            "digit-recognizer                                   2030-01-01 00:00:00  Getting Started  Knowledge       3024           False  \n",
            "titanic                                            2030-01-01 00:00:00  Getting Started  Knowledge      11423            True  \n",
            "house-prices-advanced-regression-techniques        2030-01-01 00:00:00  Getting Started  Knowledge       4588           False  \n",
            "imagenet-object-localization-challenge             2029-12-31 07:00:00  Research         Knowledge         37           False  \n",
            "competitive-data-science-predict-future-sales      2019-12-31 23:59:00  Playground           Kudos       3135           False  \n",
            "recognizing-faces-in-the-wild                      2019-08-01 23:59:00  Playground       Knowledge         31           False  \n",
            "two-sigma-financial-news                           2019-07-15 23:59:00  Featured          $100,000       2927           False  \n",
            "aerial-cactus-identification                       2019-07-08 23:59:00  Playground       Knowledge        560           False  \n",
            "jigsaw-unintended-bias-in-toxicity-classification  2019-06-26 23:59:00  Featured           $65,000       1931           False  \n",
            "data-science-for-good-city-of-los-angeles          2019-06-21 23:59:00  Analytics          $15,000          0           False  \n",
            "imaterialist-fashion-2019-FGVC6                    2019-06-10 23:59:00  Research             Kudos         73           False  \n",
            "inaturalist-2019-fgvc6                             2019-06-10 23:59:00  Research             Kudos        148           False  \n",
            "freesound-audio-tagging-2019                       2019-06-10 11:59:00  Research            $5,000        621           False  \n",
            "iwildcam-2019-fgvc6                                2019-06-07 23:59:00  Playground           Kudos        201           False  \n",
            "imet-2019-fgvc6                                    2019-06-04 23:59:00  Research             Kudos        413            True  \n",
            "LANL-Earthquake-Prediction                         2019-06-03 23:59:00  Research           $50,000       3895            True  \n",
            "landmark-recognition-2019                          2019-06-03 23:59:00  Research           $25,000        153           False  \n",
            "landmark-retrieval-2019                            2019-06-03 23:59:00  Research           $25,000        118           False  \n",
            "tmdb-box-office-prediction                         2019-05-30 23:59:00  Playground       Knowledge       1116           False  \n",
            "dont-overfit-ii                                    2019-05-07 23:59:00  Playground            Swag       2330           False  \n"
          ],
          "name": "stdout"
        }
      ]
    },
    {
      "cell_type": "code",
      "metadata": {
        "id": "VfoT9rd9itw_",
        "colab_type": "code",
        "outputId": "db9a83c0-3418-4164-cbbe-bd4aa8696838",
        "colab": {
          "base_uri": "https://localhost:8080/",
          "height": 170
        }
      },
      "source": [
        "#download the Earthquake data\n",
        "!kaggle competitions download -c LANL-Earthquake-Prediction"
      ],
      "execution_count": 0,
      "outputs": [
        {
          "output_type": "stream",
          "text": [
            "Downloading sample_submission.csv to /content\n",
            "\r  0% 0.00/33.3k [00:00<?, ?B/s]\n",
            "\r100% 33.3k/33.3k [00:00<00:00, 31.3MB/s]\n",
            "Downloading test.zip to /content\n",
            " 97% 234M/242M [00:01<00:00, 125MB/s]\n",
            "100% 242M/242M [00:01<00:00, 132MB/s]\n",
            "Downloading train.csv.zip to /content\n",
            " 99% 2.01G/2.03G [00:15<00:00, 163MB/s]\n",
            "100% 2.03G/2.03G [00:16<00:00, 134MB/s]\n"
          ],
          "name": "stdout"
        }
      ]
    },
    {
      "cell_type": "code",
      "metadata": {
        "id": "KWgWM13yi1F3",
        "colab_type": "code",
        "outputId": "46e8d244-1d59-4ae2-dbb0-bbf493e410e3",
        "colab": {
          "base_uri": "https://localhost:8080/",
          "height": 68
        }
      },
      "source": [
        "#Downloadした訓練用ファイルを展開\n",
        "!unzip train.csv.zip\n",
        "!ls"
      ],
      "execution_count": 0,
      "outputs": [
        {
          "output_type": "stream",
          "text": [
            "Archive:  train.csv.zip\n",
            "  inflating: train.csv               \n",
            "sample_data  sample_submission.csv  test.zip  train.csv  train.csv.zip\n"
          ],
          "name": "stdout"
        }
      ]
    },
    {
      "cell_type": "code",
      "metadata": {
        "id": "sCMXNHHhN3-N",
        "colab_type": "code",
        "outputId": "100cf2c7-0c04-41c9-ed8c-84472ca0c77c",
        "colab": {
          "base_uri": "https://localhost:8080/",
          "height": 34
        }
      },
      "source": [
        "#Colaboratoryで使われているGPUを確認 (optional)\n",
        "!nvidia-smi -L"
      ],
      "execution_count": 0,
      "outputs": [
        {
          "output_type": "stream",
          "text": [
            "GPU 0: Tesla T4 (UUID: GPU-7f2ab08b-dfb9-9bf8-6fde-16c6dfc6c389)\n"
          ],
          "name": "stdout"
        }
      ]
    },
    {
      "cell_type": "markdown",
      "metadata": {
        "id": "gXvN-1bCV3Z2",
        "colab_type": "text"
      },
      "source": [
        "## データセットについて考える\n",
        "まずはtrain.csvの中身を見てみる。"
      ]
    },
    {
      "cell_type": "code",
      "metadata": {
        "id": "Knrbdg0Sjd97",
        "colab_type": "code",
        "colab": {}
      },
      "source": [
        "import numpy as np\n",
        "import pandas as pd"
      ],
      "execution_count": 0,
      "outputs": []
    },
    {
      "cell_type": "code",
      "metadata": {
        "id": "-yWRkSBInqjd",
        "colab_type": "code",
        "outputId": "c01e17dc-603a-495c-bc19-8fb760b1badc",
        "colab": {
          "base_uri": "https://localhost:8080/",
          "height": 51
        }
      },
      "source": [
        "%%time\n",
        "train_df = pd.read_csv('train.csv', dtype={'acoustic_data': np.int16, 'time_to_failure': np.float32})\n",
        "data_len = len(train_df)"
      ],
      "execution_count": 0,
      "outputs": [
        {
          "output_type": "stream",
          "text": [
            "CPU times: user 2min 9s, sys: 31.7 s, total: 2min 40s\n",
            "Wall time: 2min 47s\n"
          ],
          "name": "stdout"
        }
      ]
    },
    {
      "cell_type": "code",
      "metadata": {
        "id": "16z2mIjGXtLp",
        "colab_type": "code",
        "outputId": "15e5d108-18a3-4306-9810-c17a100ed674",
        "colab": {
          "base_uri": "https://localhost:8080/",
          "height": 221
        }
      },
      "source": [
        "print(train_df.shape)\n",
        "train_df.head()"
      ],
      "execution_count": 0,
      "outputs": [
        {
          "output_type": "stream",
          "text": [
            "(629145480, 2)\n"
          ],
          "name": "stdout"
        },
        {
          "output_type": "execute_result",
          "data": {
            "text/html": [
              "<div>\n",
              "<style scoped>\n",
              "    .dataframe tbody tr th:only-of-type {\n",
              "        vertical-align: middle;\n",
              "    }\n",
              "\n",
              "    .dataframe tbody tr th {\n",
              "        vertical-align: top;\n",
              "    }\n",
              "\n",
              "    .dataframe thead th {\n",
              "        text-align: right;\n",
              "    }\n",
              "</style>\n",
              "<table border=\"1\" class=\"dataframe\">\n",
              "  <thead>\n",
              "    <tr style=\"text-align: right;\">\n",
              "      <th></th>\n",
              "      <th>acoustic_data</th>\n",
              "      <th>time_to_failure</th>\n",
              "    </tr>\n",
              "  </thead>\n",
              "  <tbody>\n",
              "    <tr>\n",
              "      <th>0</th>\n",
              "      <td>12</td>\n",
              "      <td>1.4691</td>\n",
              "    </tr>\n",
              "    <tr>\n",
              "      <th>1</th>\n",
              "      <td>6</td>\n",
              "      <td>1.4691</td>\n",
              "    </tr>\n",
              "    <tr>\n",
              "      <th>2</th>\n",
              "      <td>8</td>\n",
              "      <td>1.4691</td>\n",
              "    </tr>\n",
              "    <tr>\n",
              "      <th>3</th>\n",
              "      <td>5</td>\n",
              "      <td>1.4691</td>\n",
              "    </tr>\n",
              "    <tr>\n",
              "      <th>4</th>\n",
              "      <td>8</td>\n",
              "      <td>1.4691</td>\n",
              "    </tr>\n",
              "  </tbody>\n",
              "</table>\n",
              "</div>"
            ],
            "text/plain": [
              "   acoustic_data  time_to_failure\n",
              "0             12           1.4691\n",
              "1              6           1.4691\n",
              "2              8           1.4691\n",
              "3              5           1.4691\n",
              "4              8           1.4691"
            ]
          },
          "metadata": {
            "tags": []
          },
          "execution_count": 9
        }
      ]
    },
    {
      "cell_type": "markdown",
      "metadata": {
        "id": "eoNhFv_AXy12",
        "colab_type": "text"
      },
      "source": [
        "6億2914万5480件の、\n",
        "* **acoustic_data**(地震波の大きさを計測した値, int16,単位:voltageとあるのでおそらく電圧)\n",
        "* **time_to_failure\"**(次の地震発生までの時間, float32, 単位:秒)\n",
        "<br>\n",
        "\n",
        "からなっている。\n",
        "\n",
        "\n",
        "プロットしてみると以下のようになる。<br>\n",
        "※全件プロットしようとするとセッションがクラッシュするので、控えめに。。<br>\n",
        "とりあえず以下では頭の7500000件分のデータをプロットしてみる。\n",
        "<br>おそらくmatplotlib.pyplotでのプロットの方が速い。seaborn遅い\n"
      ]
    },
    {
      "cell_type": "code",
      "metadata": {
        "id": "lFTj4QCtwlpH",
        "colab_type": "code",
        "colab": {}
      },
      "source": [
        "import seaborn as sns\n",
        "import matplotlib.pyplot as plt\n",
        "%matplotlib inline"
      ],
      "execution_count": 0,
      "outputs": []
    },
    {
      "cell_type": "code",
      "metadata": {
        "id": "XI_OGHwZYyaH",
        "colab_type": "code",
        "outputId": "6d834d94-a8b1-4214-bcdc-8ed4d8a9a2a5",
        "colab": {
          "base_uri": "https://localhost:8080/",
          "height": 420
        }
      },
      "source": [
        "fig = plt.figure(figsize=(12, 6))\n",
        "ax1 = fig.add_subplot(111)\n",
        "sns.lineplot(x=train_df[:7500000].index, y=train_df[\"acoustic_data\"][:7500000], ax=ax1, label=\"acousitc_data\")\n",
        "ax1.legend()\n",
        "ax2 = ax1.twinx()\n",
        "sns.lineplot(x=train_df[:7500000].index, y=train_df[\"time_to_failure\"][:7500000], ax=ax2, color=\"g\", label=\"ttf\")\n",
        "ax2.legend()\n",
        "plt.title(\"Acoustic Data and TTF over time.\")\n",
        "\n"
      ],
      "execution_count": 0,
      "outputs": [
        {
          "output_type": "execute_result",
          "data": {
            "text/plain": [
              "Text(0.5, 1.0, 'Acoustic Data and TTF over time.')"
            ]
          },
          "metadata": {
            "tags": []
          },
          "execution_count": 10
        },
        {
          "output_type": "display_data",
          "data": {
            "image/png": "[encoded data removed]",
            "text/plain": [
              "<Figure size 864x432 with 2 Axes>"
            ]
          },
          "metadata": {
            "tags": []
          }
        }
      ]
    },
    {
      "cell_type": "markdown",
      "metadata": {
        "id": "V3YntYLJtSq4",
        "colab_type": "text"
      },
      "source": [
        "プロット結果より、\n",
        "* acoustic_dataは細かい範囲で振動を繰り返しており、地震発生時にはその振れが一段と大きくなっている様子が見て取れる。また、地震発生前後で見比べると平均的な振れ幅の大きさにも変化があるように見える。\n",
        "\n",
        "* time_to_failureは時間経過と共にほぼ一定の割合で減少しているように見られ、地震発生より若干遅れてリセットされている。おそらく「地震発生」→「次の地震までの時間を計算」の処理のラグ？と推測される。(discussionのどこかで情報があったかもしれない)\n",
        "\n",
        "という点が分かる。\n",
        "\n",
        "\n",
        "また、全件プロットすると分かることだが、trainデータには計16件の地震発生イベントが含まれている。\n"
      ]
    },
    {
      "cell_type": "code",
      "metadata": {
        "id": "ZAuQjPdtAxme",
        "colab_type": "code",
        "outputId": "57cf3841-ad9a-4afd-81d4-dcf27ef021b9",
        "colab": {
          "base_uri": "https://localhost:8080/",
          "height": 170
        }
      },
      "source": [
        "train_df[\"acoustic_data\"][:7500000].describe()"
      ],
      "execution_count": 0,
      "outputs": [
        {
          "output_type": "execute_result",
          "data": {
            "text/plain": [
              "count    7.500000e+06\n",
              "mean     4.511330e+00\n",
              "std      2.043296e+01\n",
              "min     -4.621000e+03\n",
              "25%      2.000000e+00\n",
              "50%      4.000000e+00\n",
              "75%      7.000000e+00\n",
              "max      3.252000e+03\n",
              "Name: acoustic_data, dtype: float64"
            ]
          },
          "metadata": {
            "tags": []
          },
          "execution_count": 9
        }
      ]
    },
    {
      "cell_type": "markdown",
      "metadata": {
        "id": "LJ0NACh-BFuN",
        "colab_type": "text"
      },
      "source": [
        "頭7500000件分のデータのacoustic_dataの簡単な統計量。<br>\n",
        "平均4.5、標準偏差20.4、第1四分位数=2、中央値=4、第3四分位数=7、最小値=-4621、最大値3252である。<br>\n",
        "平均と中央値はほぼ一緒だが、やや右よりの分布になっているのかなといった感触。\n",
        "<br>全体で見るとまた違ってくるかもしれない。\n",
        "↓一応ヒストグラムをプロットした結果"
      ]
    },
    {
      "cell_type": "code",
      "metadata": {
        "id": "_YQVP4uU_3VT",
        "colab_type": "code",
        "outputId": "1091f556-a3b4-43f2-ca88-2c5449cc0f4e",
        "colab": {
          "base_uri": "https://localhost:8080/",
          "height": 301
        }
      },
      "source": [
        "sns.distplot(a=train_df[\"acoustic_data\"][:7500000], kde=True)"
      ],
      "execution_count": 0,
      "outputs": [
        {
          "output_type": "execute_result",
          "data": {
            "text/plain": [
              "<matplotlib.axes._subplots.AxesSubplot at 0x7efd77819f28>"
            ]
          },
          "metadata": {
            "tags": []
          },
          "execution_count": 10
        },
        {
          "output_type": "display_data",
          "data": {
            "image/png": "[encoded data removed]",
            "text/plain": [
              "<Figure size 432x288 with 1 Axes>"
            ]
          },
          "metadata": {
            "tags": []
          }
        }
      ]
    },
    {
      "cell_type": "markdown",
      "metadata": {
        "id": "Ah-wj4TkVlbQ",
        "colab_type": "text"
      },
      "source": [
        "### データセットの由来（どうやって測定したのか）\n",
        "KaggleのDiscussion [Introduction](\"https://www.kaggle.com/c/LANL-Earthquake-Prediction/discussion/77525\"), [Additional Info](\"https://www.kaggle.com/c/LANL-Earthquake-Prediction/discussion/77526\")に説明あり。\n",
        "\n",
        "運営コメより<br>\n",
        "*The data for this challenge comes from a classic laboratory earthquake experiment, that has been studied in depth as a tabletop analog of seismogenic faults for decades. A number of physical laws widely used by the geoscience community have been derived from this earthquake machine.*\n",
        "\n",
        "* 実験室における擬似的に地震発生させる装置で測定したデータ\n",
        "* 地震波の大きさは4096個の圧電セラミックセンサーにより測定され、各センサー間には12マイクロ秒の測定間隔がある。"
      ]
    },
    {
      "cell_type": "markdown",
      "metadata": {
        "id": "WliiIstbJYX5",
        "colab_type": "text"
      },
      "source": [
        "これを踏まえてtime_to_failureについて、地震イベントを含まない区間で推移をみてみる。"
      ]
    },
    {
      "cell_type": "code",
      "metadata": {
        "id": "cyrrhJ_iRAmL",
        "colab_type": "code",
        "outputId": "dc2cba7f-9304-49f2-c1d6-211335113186",
        "colab": {
          "base_uri": "https://localhost:8080/",
          "height": 1884
        }
      },
      "source": [
        "ttf_small=train_df[\"time_to_failure\"][:9000]\n",
        "\n",
        "for i, ttf in enumerate(ttf_small[:5000]):\n",
        "  if i == 0: continue\n",
        "  if ttf_small[i-1] != ttf:\n",
        "    print(i)\n",
        "    print(\"{:.10f}秒の差\".format(ttf_small[i-1] - ttf))\n",
        "sns.lineplot(x=ttf_small.index, y=ttf_small)"
      ],
      "execution_count": 0,
      "outputs": [
        {
          "output_type": "stream",
          "text": [
            "41\n",
            "0.0000001192秒の差\n",
            "149\n",
            "0.0000001192秒の差\n",
            "258\n",
            "0.0000001192秒の差\n",
            "366\n",
            "0.0000001192秒の差\n",
            "474\n",
            "0.0000001192秒の差\n",
            "583\n",
            "0.0000001192秒の差\n",
            "691\n",
            "0.0000001192秒の差\n",
            "799\n",
            "0.0000001192秒の差\n",
            "908\n",
            "0.0000001192秒の差\n",
            "1016\n",
            "0.0000001192秒の差\n",
            "1125\n",
            "0.0000001192秒の差\n",
            "1233\n",
            "0.0000001192秒の差\n",
            "1341\n",
            "0.0000001192秒の差\n",
            "1450\n",
            "0.0000001192秒の差\n",
            "1558\n",
            "0.0000001192秒の差\n",
            "1666\n",
            "0.0000001192秒の差\n",
            "1775\n",
            "0.0000001192秒の差\n",
            "1883\n",
            "0.0000001192秒の差\n",
            "1991\n",
            "0.0000001192秒の差\n",
            "2100\n",
            "0.0000001192秒の差\n",
            "2208\n",
            "0.0000001192秒の差\n",
            "2317\n",
            "0.0000001192秒の差\n",
            "2425\n",
            "0.0000001192秒の差\n",
            "2533\n",
            "0.0000001192秒の差\n",
            "2642\n",
            "0.0000001192秒の差\n",
            "2750\n",
            "0.0000001192秒の差\n",
            "2858\n",
            "0.0000001192秒の差\n",
            "2967\n",
            "0.0000001192秒の差\n",
            "3075\n",
            "0.0000001192秒の差\n",
            "3184\n",
            "0.0000001192秒の差\n",
            "3292\n",
            "0.0000001192秒の差\n",
            "3400\n",
            "0.0000001192秒の差\n",
            "3509\n",
            "0.0000001192秒の差\n",
            "3617\n",
            "0.0000001192秒の差\n",
            "3725\n",
            "0.0000001192秒の差\n",
            "3834\n",
            "0.0000001192秒の差\n",
            "3942\n",
            "0.0000001192秒の差\n",
            "4051\n",
            "0.0000001192秒の差\n",
            "4095\n",
            "0.0009955168秒の差\n",
            "4179\n",
            "0.0000001192秒の差\n",
            "4288\n",
            "0.0000001192秒の差\n",
            "4396\n",
            "0.0000001192秒の差\n",
            "4504\n",
            "0.0000001192秒の差\n",
            "4613\n",
            "0.0000001192秒の差\n",
            "4721\n",
            "0.0000001192秒の差\n",
            "4830\n",
            "0.0000001192秒の差\n",
            "4938\n",
            "0.0000001192秒の差\n"
          ],
          "name": "stdout"
        },
        {
          "output_type": "execute_result",
          "data": {
            "text/plain": [
              "<matplotlib.axes._subplots.AxesSubplot at 0x7fb87d82f3c8>"
            ]
          },
          "metadata": {
            "tags": []
          },
          "execution_count": 5
        },
        {
          "output_type": "display_data",
          "data": {
            "image/png": "[encoded data removed]",
            "text/plain": [
              "<Figure size 432x288 with 1 Axes>"
            ]
          },
          "metadata": {
            "tags": []
          }
        }
      ]
    },
    {
      "cell_type": "markdown",
      "metadata": {
        "id": "EbMNMcOZR6dE",
        "colab_type": "text"
      },
      "source": [
        "細かく見ると108~9件ごとに0.11μsずつ減っている。<br>\n",
        "が、introductionにあったように4096番目のセンサの出力後にはおよそ1msの差(機器の測定誤差)が観測できる。\n",
        "\n",
        "(改めて見るとかなり大きな情報損失のような感じがする・・・)"
      ]
    },
    {
      "cell_type": "markdown",
      "metadata": {
        "id": "WcBh7gSat0z-",
        "colab_type": "text"
      },
      "source": [
        "### 4096個のセンサ内にも測定の個体差がある？（kambarakun）\n",
        "センサの個体差を見つけられれば独立で使用できる。\n",
        "<br>つまり、4096個のセンサのうち1個まともそうな奴を選んでそのセンサの観測結果のみを用いて特徴量に当てはめていくことができたりするかも？\n",
        "\n",
        "testの並び替えにも使えるかも？\n",
        "\n",
        "\n",
        "検証中...\n"
      ]
    },
    {
      "cell_type": "code",
      "metadata": {
        "id": "Fvfj4lqQuGLW",
        "colab_type": "code",
        "outputId": "679be5aa-89fc-4c9b-8286-85e2df15bbc9",
        "colab": {
          "base_uri": "https://localhost:8080/",
          "height": 253
        }
      },
      "source": [
        "sensor_df = pd.DataFrame()\n",
        "#4096のセンサごとにacoustic_dataを分ける\n",
        "\n",
        "for i in range(100):\n",
        "  for sid in range(4096):\n",
        "    sensor_df.loc[i, \"sensor_id\" + str(sid) ] = train_df[\"acoustic_data\"][sid + 4096*i]　\n",
        "    \n",
        "sensor_df.head()\n",
        "\n",
        "#たまに4096じゃなくて4095でギャップがある箇所があるらしいので、単純に4096区切りでやるとどこかでずれる\n",
        "#4095の時はどのセンサで欠損しているか不明なので無視するのが良いか"
      ],
      "execution_count": 0,
      "outputs": [
        {
          "output_type": "execute_result",
          "data": {
            "text/html": [
              "<div>\n",
              "<style scoped>\n",
              "    .dataframe tbody tr th:only-of-type {\n",
              "        vertical-align: middle;\n",
              "    }\n",
              "\n",
              "    .dataframe tbody tr th {\n",
              "        vertical-align: top;\n",
              "    }\n",
              "\n",
              "    .dataframe thead th {\n",
              "        text-align: right;\n",
              "    }\n",
              "</style>\n",
              "<table border=\"1\" class=\"dataframe\">\n",
              "  <thead>\n",
              "    <tr style=\"text-align: right;\">\n",
              "      <th></th>\n",
              "      <th>sensor_id0</th>\n",
              "      <th>sensor_id1</th>\n",
              "      <th>sensor_id2</th>\n",
              "      <th>sensor_id3</th>\n",
              "      <th>sensor_id4</th>\n",
              "      <th>sensor_id5</th>\n",
              "      <th>sensor_id6</th>\n",
              "      <th>sensor_id7</th>\n",
              "      <th>sensor_id8</th>\n",
              "      <th>sensor_id9</th>\n",
              "      <th>...</th>\n",
              "      <th>sensor_id4086</th>\n",
              "      <th>sensor_id4087</th>\n",
              "      <th>sensor_id4088</th>\n",
              "      <th>sensor_id4089</th>\n",
              "      <th>sensor_id4090</th>\n",
              "      <th>sensor_id4091</th>\n",
              "      <th>sensor_id4092</th>\n",
              "      <th>sensor_id4093</th>\n",
              "      <th>sensor_id4094</th>\n",
              "      <th>sensor_id4095</th>\n",
              "    </tr>\n",
              "  </thead>\n",
              "  <tbody>\n",
              "    <tr>\n",
              "      <th>0</th>\n",
              "      <td>12.0</td>\n",
              "      <td>6.0</td>\n",
              "      <td>8.0</td>\n",
              "      <td>5.0</td>\n",
              "      <td>8.0</td>\n",
              "      <td>8.0</td>\n",
              "      <td>9.0</td>\n",
              "      <td>7.0</td>\n",
              "      <td>-5.0</td>\n",
              "      <td>3.0</td>\n",
              "      <td>...</td>\n",
              "      <td>-16.0</td>\n",
              "      <td>-7.0</td>\n",
              "      <td>3.0</td>\n",
              "      <td>7.0</td>\n",
              "      <td>10.0</td>\n",
              "      <td>12.0</td>\n",
              "      <td>8.0</td>\n",
              "      <td>6.0</td>\n",
              "      <td>3.0</td>\n",
              "      <td>-13.0</td>\n",
              "    </tr>\n",
              "    <tr>\n",
              "      <th>1</th>\n",
              "      <td>-15.0</td>\n",
              "      <td>-7.0</td>\n",
              "      <td>-7.0</td>\n",
              "      <td>-3.0</td>\n",
              "      <td>1.0</td>\n",
              "      <td>3.0</td>\n",
              "      <td>2.0</td>\n",
              "      <td>-3.0</td>\n",
              "      <td>-1.0</td>\n",
              "      <td>1.0</td>\n",
              "      <td>...</td>\n",
              "      <td>-3.0</td>\n",
              "      <td>-1.0</td>\n",
              "      <td>-4.0</td>\n",
              "      <td>2.0</td>\n",
              "      <td>11.0</td>\n",
              "      <td>14.0</td>\n",
              "      <td>17.0</td>\n",
              "      <td>19.0</td>\n",
              "      <td>17.0</td>\n",
              "      <td>-2.0</td>\n",
              "    </tr>\n",
              "    <tr>\n",
              "      <th>2</th>\n",
              "      <td>4.0</td>\n",
              "      <td>1.0</td>\n",
              "      <td>5.0</td>\n",
              "      <td>8.0</td>\n",
              "      <td>13.0</td>\n",
              "      <td>10.0</td>\n",
              "      <td>10.0</td>\n",
              "      <td>10.0</td>\n",
              "      <td>9.0</td>\n",
              "      <td>4.0</td>\n",
              "      <td>...</td>\n",
              "      <td>1.0</td>\n",
              "      <td>1.0</td>\n",
              "      <td>2.0</td>\n",
              "      <td>5.0</td>\n",
              "      <td>6.0</td>\n",
              "      <td>4.0</td>\n",
              "      <td>3.0</td>\n",
              "      <td>3.0</td>\n",
              "      <td>10.0</td>\n",
              "      <td>-4.0</td>\n",
              "    </tr>\n",
              "    <tr>\n",
              "      <th>3</th>\n",
              "      <td>2.0</td>\n",
              "      <td>3.0</td>\n",
              "      <td>9.0</td>\n",
              "      <td>3.0</td>\n",
              "      <td>6.0</td>\n",
              "      <td>6.0</td>\n",
              "      <td>3.0</td>\n",
              "      <td>0.0</td>\n",
              "      <td>3.0</td>\n",
              "      <td>8.0</td>\n",
              "      <td>...</td>\n",
              "      <td>10.0</td>\n",
              "      <td>9.0</td>\n",
              "      <td>9.0</td>\n",
              "      <td>10.0</td>\n",
              "      <td>9.0</td>\n",
              "      <td>2.0</td>\n",
              "      <td>6.0</td>\n",
              "      <td>11.0</td>\n",
              "      <td>0.0</td>\n",
              "      <td>0.0</td>\n",
              "    </tr>\n",
              "    <tr>\n",
              "      <th>4</th>\n",
              "      <td>10.0</td>\n",
              "      <td>7.0</td>\n",
              "      <td>8.0</td>\n",
              "      <td>8.0</td>\n",
              "      <td>8.0</td>\n",
              "      <td>6.0</td>\n",
              "      <td>6.0</td>\n",
              "      <td>5.0</td>\n",
              "      <td>0.0</td>\n",
              "      <td>1.0</td>\n",
              "      <td>...</td>\n",
              "      <td>2.0</td>\n",
              "      <td>-1.0</td>\n",
              "      <td>1.0</td>\n",
              "      <td>6.0</td>\n",
              "      <td>10.0</td>\n",
              "      <td>7.0</td>\n",
              "      <td>4.0</td>\n",
              "      <td>3.0</td>\n",
              "      <td>10.0</td>\n",
              "      <td>3.0</td>\n",
              "    </tr>\n",
              "  </tbody>\n",
              "</table>\n",
              "<p>5 rows × 4096 columns</p>\n",
              "</div>"
            ],
            "text/plain": [
              "   sensor_id0  sensor_id1  sensor_id2  sensor_id3  sensor_id4  sensor_id5  \\\n",
              "0        12.0         6.0         8.0         5.0         8.0         8.0   \n",
              "1       -15.0        -7.0        -7.0        -3.0         1.0         3.0   \n",
              "2         4.0         1.0         5.0         8.0        13.0        10.0   \n",
              "3         2.0         3.0         9.0         3.0         6.0         6.0   \n",
              "4        10.0         7.0         8.0         8.0         8.0         6.0   \n",
              "\n",
              "   sensor_id6  sensor_id7  sensor_id8  sensor_id9  ...  sensor_id4086  \\\n",
              "0         9.0         7.0        -5.0         3.0  ...          -16.0   \n",
              "1         2.0        -3.0        -1.0         1.0  ...           -3.0   \n",
              "2        10.0        10.0         9.0         4.0  ...            1.0   \n",
              "3         3.0         0.0         3.0         8.0  ...           10.0   \n",
              "4         6.0         5.0         0.0         1.0  ...            2.0   \n",
              "\n",
              "   sensor_id4087  sensor_id4088  sensor_id4089  sensor_id4090  sensor_id4091  \\\n",
              "0           -7.0            3.0            7.0           10.0           12.0   \n",
              "1           -1.0           -4.0            2.0           11.0           14.0   \n",
              "2            1.0            2.0            5.0            6.0            4.0   \n",
              "3            9.0            9.0           10.0            9.0            2.0   \n",
              "4           -1.0            1.0            6.0           10.0            7.0   \n",
              "\n",
              "   sensor_id4092  sensor_id4093  sensor_id4094  sensor_id4095  \n",
              "0            8.0            6.0            3.0          -13.0  \n",
              "1           17.0           19.0           17.0           -2.0  \n",
              "2            3.0            3.0           10.0           -4.0  \n",
              "3            6.0           11.0            0.0            0.0  \n",
              "4            4.0            3.0           10.0            3.0  \n",
              "\n",
              "[5 rows x 4096 columns]"
            ]
          },
          "metadata": {
            "tags": []
          },
          "execution_count": 9
        }
      ]
    },
    {
      "cell_type": "code",
      "metadata": {
        "id": "xv7XFo890Hg0",
        "colab_type": "code",
        "colab": {}
      },
      "source": [
        "sensor_mean = sensor_df.mean()\n",
        "print(sensor_mean)"
      ],
      "execution_count": 0,
      "outputs": []
    },
    {
      "cell_type": "code",
      "metadata": {
        "id": "lDzUOXfTv5N2",
        "colab_type": "code",
        "colab": {}
      },
      "source": [
        "#del train_df\n",
        "del sensor_df"
      ],
      "execution_count": 0,
      "outputs": []
    },
    {
      "cell_type": "markdown",
      "metadata": {
        "id": "vve7XBj1n77b",
        "colab_type": "text"
      },
      "source": [
        "## 問題設定&アプローチ\n",
        "本コンペの問題設定としては以下のようになっている。\n",
        "* テスト用のデータは1セグメント150000件（0.0375秒$\\times$4.0MHz）の地震波データ毎で用意されており、<br>今回の目標は各セグメント終了時のTTFを推測するモデルを作ることである。\n",
        "\n",
        "* 精度の評価はMAE(平均絶対値誤差)による。\n",
        "$$\n",
        "MAE = \\frac{\\sum_{i=1}^{n}{|y_i - \\hat{y_i}|}}{n}\n",
        "$$\n",
        "\n",
        "\n",
        "よって、アプローチとしては\n",
        "* まずtrainデータをtestデータ同様に150000件毎のセグメントで区切る。\n",
        "* セグメント毎に有効そうな特徴量をいくつか用意して計算する。<br>\n",
        "すなわちセグメントがn個(seg1$\\dots$n)、特徴量がm個(特徴量1$\\dots$m)の場合、用意する特徴量行列は以下のようになる。\n",
        "\n",
        "\n",
        "$$\n",
        "    \\boldsymbol{\n",
        "        \\begin{array}{c|ccc}\n",
        "            {} & 特徴量1 & \\cdots & 特徴量m \\\\\n",
        "            seg_1 & \\hline \\\\\n",
        "             \\vdots & \\vdots  & \\vdots & \\vdots \\\\\n",
        "             seg_n & {} & {} & {} \\\\\n",
        "        \\end{array}}\n",
        "$$\n",
        "* 特徴量行列が用意できたらモデルを定義する。<br>\n",
        "本コンペはセグメント毎のTTF(秒数)を推測するのが目的なので、回帰問題として捉えるのが妥当と考えられるので、RandomForest系の機械学習モデル(LightGBM, XGBoost)やニューラルネットモデルを試してみる。\n",
        "\n",
        "\n",
        "* モデルが定義できたら学習を進めて、validationスコアを見つつパラメータ調整して仕上げていく。\n",
        "<br>→LightGBMによるアプローチはkambarakunに委ねた\n",
        "\n",
        "\n",
        "### 時系列データだから時系列解析的なアプローチもあり？\n",
        "この問題においておそらく最も重要な点は「**地震発生後のTTFの値を正しく推測できるか**」と考えられる。<br>TTFは基本的には始点（地震発生直後に計算される次の地震発生までの秒数）が求まればそこから0になるまではシンプルに減っていく一方のはずである。<br>\n",
        "ではTTFはどうやって決まるのかを考えた時、「直前の地震の大きさ」「過去の地震発生頻度」「過去の地震波の大きさ変動」などが関係しそうと予測を立てられる。つまり**過去の情報をある程度考慮できるようなモデル**を設計することで精度が良くなるのではないかと考えられる。\n",
        "<br>\n",
        "ここではRNNのモデルも設計してみて、時系列データとして解析するアプローチも検証してみる。"
      ]
    },
    {
      "cell_type": "markdown",
      "metadata": {
        "id": "GrArT3tnvPPq",
        "colab_type": "text"
      },
      "source": [
        "## 特徴量行列を作る"
      ]
    },
    {
      "cell_type": "markdown",
      "metadata": {
        "id": "4xUzCnIWqj6g",
        "colab_type": "text"
      },
      "source": [
        "### 予兆シグナル検出用の閾値として分位点の値を設定\n",
        "\n",
        "[関連研究](\"https://agupubs.onlinelibrary.wiley.com/action/downloadSupplement?doi=10.1002%2F2017GL074677&file=grl56367-sup-0001-supinfo.pdf\")\n",
        "によると、地震イベント発生が近づくと観測される地震波の数値も大きな変動を見せるとある。<br>そこで閾値をいくつか設定して、セグメント内の地震波のうち閾値以上が観測された割合を予兆の度合いとして特徴付けることにしてみる。"
      ]
    },
    {
      "cell_type": "code",
      "metadata": {
        "id": "-8IKahTWntKP",
        "colab_type": "code",
        "outputId": "a6b02826-e832-4e20-ee03-178c7894283e",
        "colab": {
          "base_uri": "https://localhost:8080/",
          "height": 34
        }
      },
      "source": [
        "#thresholds for precursors\n",
        "\"\"\"\n",
        "今回はいくつか適当な分位数を閾値として設定してみた。\n",
        "\"\"\"\n",
        "precursor_thresholds = []\n",
        "\n",
        "\n",
        "precursor_thresholds.append(np.quantile(train_df['acoustic_data'], 0.0001))\n",
        "precursor_thresholds.append(np.quantile(train_df['acoustic_data'], 0.0005))\n",
        "precursor_thresholds.append(np.quantile(train_df['acoustic_data'], 0.9995))\n",
        "precursor_thresholds.append(np.quantile(train_df['acoustic_data'], 0.9999))\n",
        "\n",
        "\n",
        "\n",
        "print(precursor_thresholds)"
      ],
      "execution_count": 0,
      "outputs": [
        {
          "output_type": "stream",
          "text": [
            "[-150.0, -66.0, 76.0, 161.0]\n"
          ],
          "name": "stdout"
        }
      ]
    },
    {
      "cell_type": "code",
      "metadata": {
        "id": "Du2afz2-w1L6",
        "colab_type": "code",
        "colab": {}
      },
      "source": [
        "#train_dfもういらないので消しておく。\n",
        "del train_df"
      ],
      "execution_count": 0,
      "outputs": []
    },
    {
      "cell_type": "markdown",
      "metadata": {
        "id": "wz0a0-kUf1fo",
        "colab_type": "text"
      },
      "source": [
        "### 特徴量生成の為の関数\n",
        "1.基本的な統計量たち。\n",
        "<br>平均、標準偏差、最小値、最大値・・・説明略\n",
        "<br>**歪度**: 分布の偏り度合いを示す\n",
        "<br>**尖度**: 分布の尖具合を示す。（前提として分布が単峰でないとあんまり有用じゃなかった気がするが。。一応）\n",
        "<br>\n",
        "<br>2.分位数を細かく取得。これは[関連研究](\"https://agupubs.onlinelibrary.wiley.com/action/downloadSupplement?doi=10.1002%2F2017GL074677&file=grl56367-sup-0001-supinfo.pdf\")の取り方を参考にした。\n",
        "\n",
        "<br>3.予兆シグナル。閾値として適当に全体の分位数を設定し、それより大きい（負の場合は小さい）値のacoustic_dataの割合を計算する。\n",
        "閾値の設定方法以外は[関連研究](\"https://agupubs.onlinelibrary.wiley.com/action/downloadSupplement?doi=10.1002%2F2017GL074677&file=grl56367-sup-0001-supinfo.pdf\")と同じ方法で計算出来ているはず。。\n",
        "\n",
        "<br>4.segmentの両端N件を切り取って、その区間の統計量を計算する。kaggleのkernel由来。<br>\n",
        "segmentの端の情報を強調することで、前後のsegmentに対する情報量を増やせないかといったアイデアだろう。\n",
        "\n",
        "\n",
        "<br>5.時系列データに対する窓関数的な処理で特徴量を計算。時系列データであるが故の有用な性質を見出すためのオーソドックスなアプローチ。\n",
        "以下では移動平均と移動標準偏差を採用。（kaggleのkernelみていると移動平均よりも移動stdの方が特徴量的に有用そう）\n",
        "\n",
        "\n",
        "<br>6.その他気になったやつ。\n",
        "* IQR(inter quantile range)＝四分位範囲。第3四分位-第2四分位でデータの散らばり範囲を示す。\n",
        "\n"
      ]
    },
    {
      "cell_type": "code",
      "metadata": {
        "id": "UxCXs7PCpm-l",
        "colab_type": "code",
        "colab": {}
      },
      "source": [
        "#190327 measure for precursor using threshold and Heaviside step func\n",
        "def threshold_measure(x, theta):\n",
        "  if theta > 0:\n",
        "    d = x - theta\n",
        "  else:\n",
        "    d = -x + theta\n",
        "  return np.array([0 if di < 0 else 1 for di in d]).mean()\n",
        "\n",
        "#change_rate計算(Andrewのkernelより拝借)\n",
        "def calc_change_rate(x):\n",
        "    change = (np.diff(x) / x[:-1]).values\n",
        "    change = change[np.nonzero(change)[0]]\n",
        "    change = change[~np.isnan(change)]\n",
        "    change = change[change != -np.inf]\n",
        "    change = change[change != np.inf]\n",
        "    return np.mean(change)\n",
        "\n",
        "#特徴量を用意する\n",
        "def gen_features(X, thresholds):\n",
        "  from scipy.stats import kurtosis, skew\n",
        "  \n",
        "  strain = pd.Series()\n",
        "  X_len = len(X)\n",
        "  \n",
        "  \"\"\"1.基本的な統計量\"\"\"\n",
        "  strain[\"mean\"] = X.mean()\n",
        "  strain[\"std\"] = X.std()\n",
        "  strain[\"kurtosis\"] = X.kurtosis()\n",
        "  strain[\"skew\"] = X.skew()\n",
        "  strain[\"max\"] = X.max()\n",
        "  strain[\"min\"] = X.min()\n",
        "  strain[\"abs_max\"] = abs(X).max()\n",
        "  strain[\"mean_chang_rate\"] = calc_change_rate(X)\n",
        "  \n",
        "  \n",
        "  \"\"\"2.分位点を0.01刻みで取得\"\"\"\n",
        "  for i in range(10):\n",
        "    col_name_quantile1 = \"q\" + str(i*0.01)\n",
        "    col_name_quantile2 = \"q\" + str(1.0 - 0.01*i)\n",
        "    strain[col_name_quantile1] = np.quantile(X, 0.01*i)\n",
        "    strain[col_name_quantile2] = np.quantile(X, 1.0 - 0.01*i)\n",
        "  \n",
        "  \"\"\"3.予兆シグナルの割合\"\"\"\n",
        "  for th in thresholds:\n",
        "    col_name_th = \"threshold_\" + str(th)\n",
        "    strain[col_name_th] = threshold_measure(X, th)\n",
        "    \n",
        "  \"\"\"4.端何件かだけで統計量を計算\"\"\"\n",
        "  edge_rows = 30000\n",
        "  strain[\"mean_head\"+str(edge_rows)] = X[:edge_rows].mean()\n",
        "  strain[\"std_head\"+str(edge_rows)] = X[:edge_rows].std()\n",
        "  strain[\"min_head\"+str(edge_rows)] = X[:edge_rows].min()\n",
        "  strain[\"max_head\"+str(edge_rows)] = X[:edge_rows].max()\n",
        "  strain[\"skew_head+\"+str(edge_rows)] = X[:edge_rows].skew()\n",
        "  strain[\"kurtosis_head+\"+str(edge_rows)] = X[:edge_rows].kurtosis()\n",
        "  strain[\"mean_change_rate_head\"+str(edge_rows)] = calc_change_rate(X[:edge_rows])\n",
        "  \n",
        "  strain[\"mean_tail\"+str(edge_rows)] = X[-edge_rows:].mean()\n",
        "  strain[\"std_tail\"+str(edge_rows)] = X[-edge_rows:].std()\n",
        "  strain[\"min_tail\"+str(edge_rows)] = X[-edge_rows:].min()\n",
        "  strain[\"max_tail\"+str(edge_rows)] = X[-edge_rows:].max()\n",
        "  strain[\"skew_tail\"+str(edge_rows)] = X[-edge_rows:].skew()\n",
        "  strain[\"kurtosis_tail\"+str(edge_rows)] = X[-edge_rows:].kurtosis()\n",
        "  strain[\"mean_change_rate_tail\"+str(edge_rows)] = calc_change_rate(X[-edge_rows:])\n",
        "  \n",
        "  \n",
        "  \"\"\"5.rolling windowsごとの特徴量を計算する。ここではchunkの1000分の1\"\"\"\n",
        "  window_size = X_len//1000\n",
        "  X_roll_std = X.rolling(window_size).std().dropna().values\n",
        "  X_roll_mean = X.rolling(window_size).mean().dropna().values\n",
        "  \n",
        "  strain[\"X_roll_mean_avg\"] = X_roll_mean.mean()\n",
        "  strain[\"X_roll_mean_std\"] = X_roll_mean.std()\n",
        "  strain[\"X_roll_mean_min\"] = X_roll_mean.min()\n",
        "  strain[\"X_roll_mean_max\"] = X_roll_mean.max()\n",
        "  strain[\"q01_roll_mean\"] = np.quantile(X_roll_mean, 0.01)\n",
        "  strain[\"q05_roll_mean\"] = np.quantile(X_roll_mean, 0.05)\n",
        "  strain[\"q95_roll_mean\"] = np.quantile(X_roll_mean, 0.95)\n",
        "  strain[\"q99_roll_mean\"] = np.quantile(X_roll_mean, 0.99)\n",
        "  \n",
        "  strain[\"X_roll_std_avg\"] = X_roll_std.mean()\n",
        "  strain[\"X_roll_std_std\"] = X_roll_std.std()\n",
        "  strain[\"X_roll_std_min\"] = X_roll_std.min()\n",
        "  strain[\"X_roll_std_max\"] = X_roll_std.max()\n",
        "  strain[\"q01_roll_std\"] = np.quantile(X_roll_std, 0.01)\n",
        "  strain[\"q05_roll_std\"] = np.quantile(X_roll_std, 0.05)\n",
        "  strain[\"q95_roll_std\"] = np.quantile(X_roll_std, 0.95)\n",
        "  strain[\"q99_roll_std\"] = np.quantile(X_roll_std, 0.99)\n",
        "  \n",
        "  \"\"\"6.その他気になったやつ\"\"\"\n",
        "  strain[\"iqr\"] = np.subtract(*np.percentile(X, [75, 25]))\n",
        "      \n",
        "  return strain\n",
        "\n",
        "#test用\n",
        "def gen_features_nn(X):\n",
        "  strain = pd.Series()\n",
        "  X_len = len(X)\n",
        "  \n",
        "  strain[\"mean\"] = X.mean()\n",
        "  strain[\"std\"] = X.std()\n",
        "  \n",
        "  return strain"
      ],
      "execution_count": 0,
      "outputs": []
    },
    {
      "cell_type": "markdown",
      "metadata": {
        "id": "-My4WXn4f6A8",
        "colab_type": "text"
      },
      "source": [
        "### trainデータをchunkごとに読み込んで、特徴量を計算し、モデルの学習用データとして用意する。\n",
        "\n",
        "testデータの1ファイルが150000件のデータからなるchunkで用意されている一方、<br>trainデータは連続なsequenceデータなので、trainを150000件区切りで読んで、それぞれ特徴量を計算してpreprocessする。"
      ]
    },
    {
      "cell_type": "code",
      "metadata": {
        "id": "TLo5aGG9dBAR",
        "colab_type": "code",
        "outputId": "347fa321-6107-492c-fa49-2f49f6e5b854",
        "colab": {
          "base_uri": "https://localhost:8080/",
          "height": 51
        }
      },
      "source": [
        "chunksize = 150000\n",
        "train = pd.read_csv(\"train.csv\", iterator=True, chunksize=chunksize, dtype={'acoustic_data':np.int16, 'time_to_failure':np.float64})\n",
        "\n",
        "X_train = pd.DataFrame()\n",
        "y_train = pd.Series()\n",
        "df = pd.DataFrame()\n",
        "c = 0\n",
        "print(\"Start preprocessing...\")\n",
        "for chunk in train:\n",
        "  c += 1\n",
        "  df = df.append(chunk)\n",
        "  if len(df) >= chunksize:\n",
        "    df = df[-chunksize:]\n",
        "    ch = gen_features(df['acoustic_data'], thresholds=precursor_thresholds)\n",
        "    #ch = gen_features_nn(df['acoustic_data'])\n",
        "    X_train = X_train.append(ch, ignore_index=True)\n",
        "    y_train = y_train.append(pd.Series(df['time_to_failure'].values[-1]))\n",
        "    preprocessed_portion = (X_train.shape[0]*chunksize*100)/data_len\n",
        "    if c % 100 == 0:\n",
        "      print(\"\\r\" + str(round(preprocessed_portion, 1)) + \"% done.\" + \"=\"*int(preprocessed_portion/10)+\">\" + \" \"*(10- int(preprocessed_portion/10))+\"||\", end=\"\")\n",
        "      \n",
        "print(\"\\r\" + \"100% done.\" + \"=\"*10 + \">\"+ \"||\", end=\"\")"
      ],
      "execution_count": 0,
      "outputs": [
        {
          "output_type": "stream",
          "text": [
            "Start preprocessing...\n",
            "100% done.==========>||"
          ],
          "name": "stdout"
        }
      ]
    },
    {
      "cell_type": "code",
      "metadata": {
        "id": "SQXOO5P1TzWd",
        "colab_type": "code",
        "outputId": "16981f6d-765b-46ce-97bf-dcad16f956e5",
        "colab": {
          "base_uri": "https://localhost:8080/",
          "height": 241
        }
      },
      "source": [
        "print(X_train.shape)\n",
        "X_train.head()"
      ],
      "execution_count": 0,
      "outputs": [
        {
          "output_type": "stream",
          "text": [
            "(4195, 63)\n"
          ],
          "name": "stdout"
        },
        {
          "output_type": "execute_result",
          "data": {
            "text/html": [
              "<div>\n",
              "<style scoped>\n",
              "    .dataframe tbody tr th:only-of-type {\n",
              "        vertical-align: middle;\n",
              "    }\n",
              "\n",
              "    .dataframe tbody tr th {\n",
              "        vertical-align: top;\n",
              "    }\n",
              "\n",
              "    .dataframe thead th {\n",
              "        text-align: right;\n",
              "    }\n",
              "</style>\n",
              "<table border=\"1\" class=\"dataframe\">\n",
              "  <thead>\n",
              "    <tr style=\"text-align: right;\">\n",
              "      <th></th>\n",
              "      <th>X_roll_mean_avg</th>\n",
              "      <th>X_roll_mean_max</th>\n",
              "      <th>X_roll_mean_min</th>\n",
              "      <th>X_roll_mean_std</th>\n",
              "      <th>X_roll_std_avg</th>\n",
              "      <th>X_roll_std_max</th>\n",
              "      <th>X_roll_std_min</th>\n",
              "      <th>X_roll_std_std</th>\n",
              "      <th>abs_max</th>\n",
              "      <th>iqr</th>\n",
              "      <th>kurtosis</th>\n",
              "      <th>kurtosis_head+30000</th>\n",
              "      <th>kurtosis_tail30000</th>\n",
              "      <th>max</th>\n",
              "      <th>max_head30000</th>\n",
              "      <th>max_tail30000</th>\n",
              "      <th>mean</th>\n",
              "      <th>mean_chang_rate</th>\n",
              "      <th>mean_change_rate_head30000</th>\n",
              "      <th>mean_change_rate_tail30000</th>\n",
              "      <th>mean_head30000</th>\n",
              "      <th>mean_tail30000</th>\n",
              "      <th>min</th>\n",
              "      <th>min_head30000</th>\n",
              "      <th>min_tail30000</th>\n",
              "      <th>q0.0</th>\n",
              "      <th>q0.01</th>\n",
              "      <th>q0.02</th>\n",
              "      <th>q0.03</th>\n",
              "      <th>q0.04</th>\n",
              "      <th>q0.05</th>\n",
              "      <th>q0.06</th>\n",
              "      <th>q0.07</th>\n",
              "      <th>q0.08</th>\n",
              "      <th>q0.09</th>\n",
              "      <th>q0.91</th>\n",
              "      <th>q0.92</th>\n",
              "      <th>q0.9299999999999999</th>\n",
              "      <th>q0.94</th>\n",
              "      <th>q0.95</th>\n",
              "      <th>q0.96</th>\n",
              "      <th>q0.97</th>\n",
              "      <th>q0.98</th>\n",
              "      <th>q0.99</th>\n",
              "      <th>q01_roll_mean</th>\n",
              "      <th>q01_roll_std</th>\n",
              "      <th>q05_roll_mean</th>\n",
              "      <th>q05_roll_std</th>\n",
              "      <th>q1.0</th>\n",
              "      <th>q95_roll_mean</th>\n",
              "      <th>q95_roll_std</th>\n",
              "      <th>q99_roll_mean</th>\n",
              "      <th>q99_roll_std</th>\n",
              "      <th>skew</th>\n",
              "      <th>skew_head+30000</th>\n",
              "      <th>skew_tail30000</th>\n",
              "      <th>std</th>\n",
              "      <th>std_head30000</th>\n",
              "      <th>std_tail30000</th>\n",
              "      <th>threshold_-150.0</th>\n",
              "      <th>threshold_-66.0</th>\n",
              "      <th>threshold_161.0</th>\n",
              "      <th>threshold_76.0</th>\n",
              "    </tr>\n",
              "  </thead>\n",
              "  <tbody>\n",
              "    <tr>\n",
              "      <th>0</th>\n",
              "      <td>4.883790</td>\n",
              "      <td>8.560000</td>\n",
              "      <td>1.546667</td>\n",
              "      <td>0.397393</td>\n",
              "      <td>4.074231</td>\n",
              "      <td>51.002358</td>\n",
              "      <td>2.097575</td>\n",
              "      <td>3.074653</td>\n",
              "      <td>104.0</td>\n",
              "      <td>4.0</td>\n",
              "      <td>33.662481</td>\n",
              "      <td>33.165839</td>\n",
              "      <td>2.022456</td>\n",
              "      <td>104.0</td>\n",
              "      <td>104.0</td>\n",
              "      <td>26.0</td>\n",
              "      <td>4.884113</td>\n",
              "      <td>0.036138</td>\n",
              "      <td>0.019228</td>\n",
              "      <td>0.021605</td>\n",
              "      <td>5.011700</td>\n",
              "      <td>4.508067</td>\n",
              "      <td>-98.0</td>\n",
              "      <td>-98.0</td>\n",
              "      <td>-16.0</td>\n",
              "      <td>-98.0</td>\n",
              "      <td>-8.0</td>\n",
              "      <td>-5.0</td>\n",
              "      <td>-3.0</td>\n",
              "      <td>-2.0</td>\n",
              "      <td>-2.0</td>\n",
              "      <td>-1.0</td>\n",
              "      <td>-1.0</td>\n",
              "      <td>0.0</td>\n",
              "      <td>0.0</td>\n",
              "      <td>10.0</td>\n",
              "      <td>10.0</td>\n",
              "      <td>11.0</td>\n",
              "      <td>11.0</td>\n",
              "      <td>11.0</td>\n",
              "      <td>12.0</td>\n",
              "      <td>13.0</td>\n",
              "      <td>15.0</td>\n",
              "      <td>18.0</td>\n",
              "      <td>3.926667</td>\n",
              "      <td>2.382224</td>\n",
              "      <td>4.220000</td>\n",
              "      <td>2.535617</td>\n",
              "      <td>104.0</td>\n",
              "      <td>5.506667</td>\n",
              "      <td>8.326547</td>\n",
              "      <td>5.773333</td>\n",
              "      <td>17.218036</td>\n",
              "      <td>-0.024061</td>\n",
              "      <td>-0.129510</td>\n",
              "      <td>0.047550</td>\n",
              "      <td>5.101106</td>\n",
              "      <td>7.367779</td>\n",
              "      <td>3.766104</td>\n",
              "      <td>0.000000</td>\n",
              "      <td>0.000093</td>\n",
              "      <td>0.000000</td>\n",
              "      <td>0.000100</td>\n",
              "    </tr>\n",
              "    <tr>\n",
              "      <th>1</th>\n",
              "      <td>4.725525</td>\n",
              "      <td>12.293333</td>\n",
              "      <td>-1.306667</td>\n",
              "      <td>0.394606</td>\n",
              "      <td>4.473657</td>\n",
              "      <td>80.993965</td>\n",
              "      <td>2.165584</td>\n",
              "      <td>4.854929</td>\n",
              "      <td>181.0</td>\n",
              "      <td>5.0</td>\n",
              "      <td>98.758517</td>\n",
              "      <td>98.145824</td>\n",
              "      <td>68.727069</td>\n",
              "      <td>181.0</td>\n",
              "      <td>181.0</td>\n",
              "      <td>111.0</td>\n",
              "      <td>4.725767</td>\n",
              "      <td>0.022629</td>\n",
              "      <td>0.034917</td>\n",
              "      <td>0.034537</td>\n",
              "      <td>4.646933</td>\n",
              "      <td>4.776367</td>\n",
              "      <td>-154.0</td>\n",
              "      <td>-154.0</td>\n",
              "      <td>-115.0</td>\n",
              "      <td>-154.0</td>\n",
              "      <td>-11.0</td>\n",
              "      <td>-6.0</td>\n",
              "      <td>-4.0</td>\n",
              "      <td>-3.0</td>\n",
              "      <td>-2.0</td>\n",
              "      <td>-2.0</td>\n",
              "      <td>-1.0</td>\n",
              "      <td>-1.0</td>\n",
              "      <td>0.0</td>\n",
              "      <td>10.0</td>\n",
              "      <td>10.0</td>\n",
              "      <td>11.0</td>\n",
              "      <td>11.0</td>\n",
              "      <td>12.0</td>\n",
              "      <td>12.0</td>\n",
              "      <td>14.0</td>\n",
              "      <td>16.0</td>\n",
              "      <td>21.0</td>\n",
              "      <td>3.840000</td>\n",
              "      <td>2.388043</td>\n",
              "      <td>4.140000</td>\n",
              "      <td>2.528310</td>\n",
              "      <td>181.0</td>\n",
              "      <td>5.293333</td>\n",
              "      <td>9.964860</td>\n",
              "      <td>5.560000</td>\n",
              "      <td>22.884040</td>\n",
              "      <td>0.390561</td>\n",
              "      <td>0.585039</td>\n",
              "      <td>-0.340063</td>\n",
              "      <td>6.588824</td>\n",
              "      <td>8.111482</td>\n",
              "      <td>5.842718</td>\n",
              "      <td>0.000013</td>\n",
              "      <td>0.000580</td>\n",
              "      <td>0.000027</td>\n",
              "      <td>0.000580</td>\n",
              "    </tr>\n",
              "    <tr>\n",
              "      <th>2</th>\n",
              "      <td>4.906059</td>\n",
              "      <td>10.493333</td>\n",
              "      <td>-0.466667</td>\n",
              "      <td>0.432219</td>\n",
              "      <td>4.960900</td>\n",
              "      <td>48.471274</td>\n",
              "      <td>2.166452</td>\n",
              "      <td>4.909991</td>\n",
              "      <td>140.0</td>\n",
              "      <td>5.0</td>\n",
              "      <td>33.555211</td>\n",
              "      <td>29.762751</td>\n",
              "      <td>21.361429</td>\n",
              "      <td>140.0</td>\n",
              "      <td>97.0</td>\n",
              "      <td>140.0</td>\n",
              "      <td>4.906393</td>\n",
              "      <td>0.023744</td>\n",
              "      <td>0.025152</td>\n",
              "      <td>-0.012051</td>\n",
              "      <td>4.644500</td>\n",
              "      <td>5.157133</td>\n",
              "      <td>-106.0</td>\n",
              "      <td>-87.0</td>\n",
              "      <td>-106.0</td>\n",
              "      <td>-106.0</td>\n",
              "      <td>-15.0</td>\n",
              "      <td>-9.0</td>\n",
              "      <td>-6.0</td>\n",
              "      <td>-4.0</td>\n",
              "      <td>-3.0</td>\n",
              "      <td>-2.0</td>\n",
              "      <td>-2.0</td>\n",
              "      <td>-1.0</td>\n",
              "      <td>-1.0</td>\n",
              "      <td>11.0</td>\n",
              "      <td>11.0</td>\n",
              "      <td>11.0</td>\n",
              "      <td>12.0</td>\n",
              "      <td>13.0</td>\n",
              "      <td>14.0</td>\n",
              "      <td>15.0</td>\n",
              "      <td>19.0</td>\n",
              "      <td>26.0</td>\n",
              "      <td>3.893333</td>\n",
              "      <td>2.456876</td>\n",
              "      <td>4.233333</td>\n",
              "      <td>2.598778</td>\n",
              "      <td>140.0</td>\n",
              "      <td>5.560000</td>\n",
              "      <td>13.597738</td>\n",
              "      <td>5.966667</td>\n",
              "      <td>29.405621</td>\n",
              "      <td>0.217391</td>\n",
              "      <td>-0.024459</td>\n",
              "      <td>0.321789</td>\n",
              "      <td>6.967397</td>\n",
              "      <td>6.623311</td>\n",
              "      <td>10.701517</td>\n",
              "      <td>0.000000</td>\n",
              "      <td>0.000327</td>\n",
              "      <td>0.000000</td>\n",
              "      <td>0.000373</td>\n",
              "    </tr>\n",
              "    <tr>\n",
              "      <th>3</th>\n",
              "      <td>4.901918</td>\n",
              "      <td>13.760000</td>\n",
              "      <td>-2.240000</td>\n",
              "      <td>0.461750</td>\n",
              "      <td>4.567832</td>\n",
              "      <td>101.524085</td>\n",
              "      <td>2.006265</td>\n",
              "      <td>5.215045</td>\n",
              "      <td>199.0</td>\n",
              "      <td>5.0</td>\n",
              "      <td>116.548172</td>\n",
              "      <td>14.079172</td>\n",
              "      <td>31.115635</td>\n",
              "      <td>197.0</td>\n",
              "      <td>75.0</td>\n",
              "      <td>84.0</td>\n",
              "      <td>4.902240</td>\n",
              "      <td>0.042462</td>\n",
              "      <td>0.038677</td>\n",
              "      <td>0.057941</td>\n",
              "      <td>4.858567</td>\n",
              "      <td>5.005800</td>\n",
              "      <td>-199.0</td>\n",
              "      <td>-48.0</td>\n",
              "      <td>-79.0</td>\n",
              "      <td>-199.0</td>\n",
              "      <td>-12.0</td>\n",
              "      <td>-6.0</td>\n",
              "      <td>-4.0</td>\n",
              "      <td>-3.0</td>\n",
              "      <td>-2.0</td>\n",
              "      <td>-1.0</td>\n",
              "      <td>-1.0</td>\n",
              "      <td>-1.0</td>\n",
              "      <td>0.0</td>\n",
              "      <td>10.0</td>\n",
              "      <td>10.0</td>\n",
              "      <td>11.0</td>\n",
              "      <td>11.0</td>\n",
              "      <td>12.0</td>\n",
              "      <td>13.0</td>\n",
              "      <td>14.0</td>\n",
              "      <td>16.0</td>\n",
              "      <td>22.0</td>\n",
              "      <td>3.933333</td>\n",
              "      <td>2.422444</td>\n",
              "      <td>4.240000</td>\n",
              "      <td>2.549869</td>\n",
              "      <td>197.0</td>\n",
              "      <td>5.520000</td>\n",
              "      <td>10.095455</td>\n",
              "      <td>5.833333</td>\n",
              "      <td>25.745944</td>\n",
              "      <td>0.757278</td>\n",
              "      <td>0.401829</td>\n",
              "      <td>-0.273932</td>\n",
              "      <td>6.922305</td>\n",
              "      <td>5.740348</td>\n",
              "      <td>5.745648</td>\n",
              "      <td>0.000033</td>\n",
              "      <td>0.000507</td>\n",
              "      <td>0.000087</td>\n",
              "      <td>0.000607</td>\n",
              "    </tr>\n",
              "    <tr>\n",
              "      <th>4</th>\n",
              "      <td>4.909241</td>\n",
              "      <td>10.900000</td>\n",
              "      <td>-0.073333</td>\n",
              "      <td>0.447178</td>\n",
              "      <td>4.794287</td>\n",
              "      <td>67.665151</td>\n",
              "      <td>2.064941</td>\n",
              "      <td>5.524425</td>\n",
              "      <td>145.0</td>\n",
              "      <td>5.0</td>\n",
              "      <td>52.977905</td>\n",
              "      <td>37.617602</td>\n",
              "      <td>58.981714</td>\n",
              "      <td>145.0</td>\n",
              "      <td>93.0</td>\n",
              "      <td>128.0</td>\n",
              "      <td>4.908720</td>\n",
              "      <td>0.038659</td>\n",
              "      <td>0.051415</td>\n",
              "      <td>0.052366</td>\n",
              "      <td>4.891000</td>\n",
              "      <td>4.786633</td>\n",
              "      <td>-126.0</td>\n",
              "      <td>-96.0</td>\n",
              "      <td>-126.0</td>\n",
              "      <td>-126.0</td>\n",
              "      <td>-15.0</td>\n",
              "      <td>-8.0</td>\n",
              "      <td>-5.0</td>\n",
              "      <td>-3.0</td>\n",
              "      <td>-2.0</td>\n",
              "      <td>-2.0</td>\n",
              "      <td>-1.0</td>\n",
              "      <td>-1.0</td>\n",
              "      <td>0.0</td>\n",
              "      <td>10.0</td>\n",
              "      <td>11.0</td>\n",
              "      <td>11.0</td>\n",
              "      <td>11.0</td>\n",
              "      <td>12.0</td>\n",
              "      <td>13.0</td>\n",
              "      <td>15.0</td>\n",
              "      <td>18.0</td>\n",
              "      <td>26.0</td>\n",
              "      <td>3.913333</td>\n",
              "      <td>2.378699</td>\n",
              "      <td>4.320000</td>\n",
              "      <td>2.543765</td>\n",
              "      <td>145.0</td>\n",
              "      <td>5.533333</td>\n",
              "      <td>12.250051</td>\n",
              "      <td>6.093333</td>\n",
              "      <td>34.931312</td>\n",
              "      <td>0.064531</td>\n",
              "      <td>-0.195779</td>\n",
              "      <td>-0.445644</td>\n",
              "      <td>7.301110</td>\n",
              "      <td>5.938768</td>\n",
              "      <td>7.592349</td>\n",
              "      <td>0.000000</td>\n",
              "      <td>0.000640</td>\n",
              "      <td>0.000000</td>\n",
              "      <td>0.000633</td>\n",
              "    </tr>\n",
              "  </tbody>\n",
              "</table>\n",
              "</div>"
            ],
            "text/plain": [
              "   X_roll_mean_avg  X_roll_mean_max  ...  threshold_161.0  threshold_76.0\n",
              "0         4.883790         8.560000  ...         0.000000        0.000100\n",
              "1         4.725525        12.293333  ...         0.000027        0.000580\n",
              "2         4.906059        10.493333  ...         0.000000        0.000373\n",
              "3         4.901918        13.760000  ...         0.000087        0.000607\n",
              "4         4.909241        10.900000  ...         0.000000        0.000633\n",
              "\n",
              "[5 rows x 63 columns]"
            ]
          },
          "metadata": {
            "tags": []
          },
          "execution_count": 16
        }
      ]
    },
    {
      "cell_type": "code",
      "metadata": {
        "id": "RrEqDqRRkJ14",
        "colab_type": "code",
        "outputId": "f559b949-5eed-40fa-fd3e-be9016eb02fe",
        "colab": {
          "base_uri": "https://localhost:8080/",
          "height": 238
        }
      },
      "source": [
        "np.abs(X_train.corrwith(pd.Series(y_train.values))).sort_values(ascending=False).head(12)"
      ],
      "execution_count": 0,
      "outputs": [
        {
          "output_type": "execute_result",
          "data": {
            "text/plain": [
              "q05_roll_std                  0.646821\n",
              "q01_roll_std                  0.641634\n",
              "mean_chang_rate               0.538835\n",
              "iqr                           0.507208\n",
              "mean_change_rate_tail30000    0.488803\n",
              "mean_change_rate_head30000    0.486741\n",
              "q0.91                         0.461815\n",
              "q0.92                         0.449282\n",
              "q0.09                         0.445394\n",
              "q0.9299999999999999           0.437616\n",
              "q0.08                         0.434877\n",
              "q95_roll_std                  0.434453\n",
              "dtype: float64"
            ]
          },
          "metadata": {
            "tags": []
          },
          "execution_count": 17
        }
      ]
    },
    {
      "cell_type": "markdown",
      "metadata": {
        "id": "0J1FZQIqgLhp",
        "colab_type": "text"
      },
      "source": [
        "### Scalingとtrain_test_split"
      ]
    },
    {
      "cell_type": "code",
      "metadata": {
        "id": "2FCoKM_Bdg1Z",
        "colab_type": "code",
        "outputId": "c49f1cec-cb9c-41e1-c940-ed14cb78a389",
        "colab": {
          "base_uri": "https://localhost:8080/",
          "height": 51
        }
      },
      "source": [
        "#scaling\n",
        "from sklearn.preprocessing import StandardScaler, MinMaxScaler\n",
        "sc = StandardScaler()\n",
        "X_train_sc = sc.fit_transform(X_train)\n",
        "\n",
        "#学習データと検証データに分割\n",
        "from sklearn.model_selection import train_test_split\n",
        "\n",
        "X_tr_sc, X_val_sc, y_tr_sc, y_val_sc = train_test_split(X_train_sc, y_train, test_size=0.1,shuffle=False)\n",
        "\n",
        "print(X_tr_sc.shape)\n",
        "print(y_tr_sc.shape)"
      ],
      "execution_count": 0,
      "outputs": [
        {
          "output_type": "stream",
          "text": [
            "(3775, 63)\n",
            "(3775,)\n"
          ],
          "name": "stdout"
        }
      ]
    },
    {
      "cell_type": "code",
      "metadata": {
        "id": "8LDNiMf0fN2H",
        "colab_type": "code",
        "outputId": "f696130e-e58f-48d6-8132-965be7d6663e",
        "colab": {
          "base_uri": "https://localhost:8080/",
          "height": 34
        }
      },
      "source": [
        "#model作るのにkerasから必要なものをimport\n",
        "from keras.models import Sequential\n",
        "from keras.layers import Dense, GRU, CuDNNLSTM, CuDNNGRU, Dropout, BatchNormalization, Bidirectional\n",
        "n_features = X_tr_sc.shape[1]"
      ],
      "execution_count": 0,
      "outputs": [
        {
          "output_type": "stream",
          "text": [
            "Using TensorFlow backend.\n"
          ],
          "name": "stderr"
        }
      ]
    },
    {
      "cell_type": "code",
      "metadata": {
        "id": "gReh5VdrfogR",
        "colab_type": "code",
        "colab": {}
      },
      "source": [
        "#LSTM, GRUのモデルに対応した形に入力するデータをreshape\n",
        "X_tr_reshaped = np.reshape(np.array(X_tr_sc), (X_tr_sc.shape[0], 1, X_tr_sc.shape[1]))\n",
        "X_val_reshaped = np.reshape(np.array(X_val_sc), (X_val_sc.shape[0], 1, X_val_sc.shape[1]))"
      ],
      "execution_count": 0,
      "outputs": []
    },
    {
      "cell_type": "markdown",
      "metadata": {
        "id": "iK5nioFiiTBU",
        "colab_type": "text"
      },
      "source": [
        "## モデルを作る\n",
        "\n",
        "考慮したポイント<br>\n",
        "* train lossが下がってもvalidationスコアが良くならない(overfitting)問題がある。今回の場合[問題設定](https://colab.research.google.com/drive/1ZT9dpQnaCqSHThLIWZWcmBcB85DvgpQN#scrollTo=vve7XBj1n77b&line=26&uniqifier=1)でもポイントアウトしたように、地震発生後のTTFを如何に正確に予測できるかが肝であると考える。\n",
        "逆に言うと、ここを外せばその分誤差も大きくなって、モデルが修正するのも難しくなってくるだろう。<br>\n",
        "ところがtrainデータには16件しか地震発生イベントがなく、学習データとしては如何せん少なすぎるため、モデルが過学習してしまう可能性が非常に高い。<br>\n",
        "\n",
        "一つ試したのが、モデルの活性化関数を性質の異なるものを組み合わせることである。<br>\n",
        "NNでは一般的にはreluが最もパフォーマンスに優れているが、これのみで実装すると（主に地震発生直後の）TTF予測が大きく外れた際に誤差に大きく影響が出てしまう。\n",
        "そこで以下のhard_sigmoid関数を出力レイヤ側に設定して、大きくなりすぎた予測値をカットしてしまうように出来ないか試してみた。\n",
        "\n",
        "* **hard sigmoid**<br>\n",
        "以下の式で表される活性化関数の一種。<br>\n",
        "通常のsigmoidは滑らかなのに対して、hard sigmoidはカクカクしている。\n",
        "<br>\n",
        "$$\n",
        "f(x) =\n",
        "\\begin{cases}\n",
        "            0 \\quad (x < -2.5) \\\\\n",
        "            0.2x+0.5 \\quad (-2.5 \\leqq x \\leqq 2.5)  \\\\\n",
        "            1 \\quad (x > 2.5)\n",
        "        \\end{cases}\n",
        "$$"
      ]
    },
    {
      "cell_type": "code",
      "metadata": {
        "id": "J5ZEHOJRnREw",
        "colab_type": "code",
        "outputId": "cc7ee761-91cd-43ba-8e4f-a358453772e7",
        "colab": {
          "base_uri": "https://localhost:8080/",
          "height": 214
        }
      },
      "source": [
        "def HSigmoid(x):\n",
        "  if x < -2.5:\n",
        "    return 0\n",
        "  elif x > 2.5:\n",
        "    return 1\n",
        "  else:\n",
        "    return 0.2*x + 0.5\n",
        "  \n",
        "sample_x = np.arange(-7, 7, 0.01)\n",
        "sample_y = [HSigmoid(x) for x in sample_x]\n",
        "plt.figure(figsize=(6, 3))\n",
        "\n",
        "plt.plot(sample_x, sample_y)\n",
        "plt.grid(True)\n",
        "plt.show()"
      ],
      "execution_count": 0,
      "outputs": [
        {
          "output_type": "display_data",
          "data": {
            "image/png": "[encoded data removed]",
            "text/plain": [
              "<Figure size 432x216 with 1 Axes>"
            ]
          },
          "metadata": {
            "tags": []
          }
        }
      ]
    },
    {
      "cell_type": "markdown",
      "metadata": {
        "id": "5AnttriGgQkO",
        "colab_type": "text"
      },
      "source": [
        "### LSTM model\n",
        "LSTMモデル。\n",
        "系列データ特有の過去の値を考慮した予測が可能\n",
        "* **CuDNNLSTMレイヤ** : GPU環境で使えるGRUレイヤ。素のGRUレイヤよりも高速処理ができる。"
      ]
    },
    {
      "cell_type": "code",
      "metadata": {
        "id": "gtNi82bged6Z",
        "colab_type": "code",
        "outputId": "b0e6be94-3000-4721-ba91-91b0c4314d0b",
        "colab": {
          "base_uri": "https://localhost:8080/",
          "height": 615
        }
      },
      "source": [
        "#LSTM\n",
        "\n",
        "model_lstm = Sequential()\n",
        "model_lstm.add(CuDNNLSTM(256, return_sequences = True, input_shape=(None, n_features)))\n",
        "model_lstm.add(CuDNNLSTM(64))\n",
        "model_lstm.add(Dense(1024, activation='relu'))\n",
        "model_lstm.add(BatchNormalization())\n",
        "model_lstm.add(Dense(512, activation='relu'))\n",
        "model_lstm.add(BatchNormalization())\n",
        "model_lstm.add(Dense(256, activation='relu'))\n",
        "model_lstm.add(BatchNormalization())\n",
        "model_lstm.add(Dense(128, activation='hard_sigmoid'))\n",
        "model_lstm.add(Dense(10, activation='hard_sigmoid'))\n",
        "model_lstm.add(BatchNormalization())\n",
        "#model.add(Dropout(0.2))\n",
        "model_lstm.add(Dense(1))\n",
        "\n",
        "model_lstm.summary()"
      ],
      "execution_count": 0,
      "outputs": [
        {
          "output_type": "stream",
          "text": [
            "WARNING:tensorflow:From /usr/local/lib/python3.6/dist-packages/tensorflow/python/framework/op_def_library.py:263: colocate_with (from tensorflow.python.framework.ops) is deprecated and will be removed in a future version.\n",
            "Instructions for updating:\n",
            "Colocations handled automatically by placer.\n",
            "_________________________________________________________________\n",
            "Layer (type)                 Output Shape              Param #   \n",
            "=================================================================\n",
            "cu_dnnlstm_1 (CuDNNLSTM)     (None, None, 256)         328704    \n",
            "_________________________________________________________________\n",
            "cu_dnnlstm_2 (CuDNNLSTM)     (None, 64)                82432     \n",
            "_________________________________________________________________\n",
            "dense_1 (Dense)              (None, 1024)              66560     \n",
            "_________________________________________________________________\n",
            "batch_normalization_1 (Batch (None, 1024)              4096      \n",
            "_________________________________________________________________\n",
            "dense_2 (Dense)              (None, 512)               524800    \n",
            "_________________________________________________________________\n",
            "batch_normalization_2 (Batch (None, 512)               2048      \n",
            "_________________________________________________________________\n",
            "dense_3 (Dense)              (None, 256)               131328    \n",
            "_________________________________________________________________\n",
            "batch_normalization_3 (Batch (None, 256)               1024      \n",
            "_________________________________________________________________\n",
            "dense_4 (Dense)              (None, 128)               32896     \n",
            "_________________________________________________________________\n",
            "dense_5 (Dense)              (None, 10)                1290      \n",
            "_________________________________________________________________\n",
            "batch_normalization_4 (Batch (None, 10)                40        \n",
            "_________________________________________________________________\n",
            "dense_6 (Dense)              (None, 1)                 11        \n",
            "=================================================================\n",
            "Total params: 1,175,229\n",
            "Trainable params: 1,171,625\n",
            "Non-trainable params: 3,604\n",
            "_________________________________________________________________\n"
          ],
          "name": "stdout"
        }
      ]
    },
    {
      "cell_type": "code",
      "metadata": {
        "id": "9Z6XveTveobW",
        "colab_type": "code",
        "outputId": "47e21b37-1168-452a-fc95-58bc7ff813bd",
        "colab": {
          "base_uri": "https://localhost:8080/",
          "height": 1822
        }
      },
      "source": [
        "#compile & train bidirectional RNN model\n",
        "from keras.optimizers import adam\n",
        "model_lstm.compile(optimizer = adam(lr=0.00075), loss='MAE')\n",
        "model_lstm.fit(X_tr_reshaped, y_tr_sc, epochs=50, batch_size=50, verbose=1,validation_split=0.1)"
      ],
      "execution_count": 0,
      "outputs": [
        {
          "output_type": "stream",
          "text": [
            "WARNING:tensorflow:From /usr/local/lib/python3.6/dist-packages/tensorflow/python/ops/math_ops.py:3066: to_int32 (from tensorflow.python.ops.math_ops) is deprecated and will be removed in a future version.\n",
            "Instructions for updating:\n",
            "Use tf.cast instead.\n",
            "Train on 3397 samples, validate on 378 samples\n",
            "Epoch 1/50\n",
            "3397/3397 [==============================] - 7s 2ms/step - loss: 5.5035 - val_loss: 7.2758\n",
            "Epoch 2/50\n",
            "3397/3397 [==============================] - 1s 217us/step - loss: 5.2094 - val_loss: 6.9155\n",
            "Epoch 3/50\n",
            "3397/3397 [==============================] - 1s 218us/step - loss: 4.8538 - val_loss: 6.6491\n",
            "Epoch 4/50\n",
            "3397/3397 [==============================] - 1s 220us/step - loss: 4.4041 - val_loss: 6.6753\n",
            "Epoch 5/50\n",
            "3397/3397 [==============================] - 1s 218us/step - loss: 3.8786 - val_loss: 6.3313\n",
            "Epoch 6/50\n",
            "3397/3397 [==============================] - 1s 211us/step - loss: 3.2703 - val_loss: 5.4134\n",
            "Epoch 7/50\n",
            "3397/3397 [==============================] - 1s 219us/step - loss: 2.6840 - val_loss: 4.7962\n",
            "Epoch 8/50\n",
            "3397/3397 [==============================] - 1s 222us/step - loss: 2.3037 - val_loss: 3.8809\n",
            "Epoch 9/50\n",
            "3397/3397 [==============================] - 1s 214us/step - loss: 2.1048 - val_loss: 3.7462\n",
            "Epoch 10/50\n",
            "3397/3397 [==============================] - 1s 234us/step - loss: 2.0525 - val_loss: 3.5901\n",
            "Epoch 11/50\n",
            "3397/3397 [==============================] - 1s 217us/step - loss: 2.0218 - val_loss: 3.5348\n",
            "Epoch 12/50\n",
            "3397/3397 [==============================] - 1s 216us/step - loss: 1.9967 - val_loss: 3.2955\n",
            "Epoch 13/50\n",
            "3397/3397 [==============================] - 1s 217us/step - loss: 1.9874 - val_loss: 3.7459\n",
            "Epoch 14/50\n",
            "3397/3397 [==============================] - 1s 219us/step - loss: 1.9853 - val_loss: 3.5706\n",
            "Epoch 15/50\n",
            "3397/3397 [==============================] - 1s 217us/step - loss: 1.9725 - val_loss: 3.6225\n",
            "Epoch 16/50\n",
            "3397/3397 [==============================] - 1s 213us/step - loss: 1.9643 - val_loss: 3.4207\n",
            "Epoch 17/50\n",
            "3397/3397 [==============================] - 1s 226us/step - loss: 1.9696 - val_loss: 3.3519\n",
            "Epoch 18/50\n",
            "3397/3397 [==============================] - 1s 218us/step - loss: 1.9560 - val_loss: 3.4951\n",
            "Epoch 19/50\n",
            "3397/3397 [==============================] - 1s 218us/step - loss: 1.9591 - val_loss: 3.4231\n",
            "Epoch 20/50\n",
            "3397/3397 [==============================] - 1s 212us/step - loss: 1.9548 - val_loss: 3.0518\n",
            "Epoch 21/50\n",
            "3397/3397 [==============================] - 1s 217us/step - loss: 1.9240 - val_loss: 3.3049\n",
            "Epoch 22/50\n",
            "3397/3397 [==============================] - 1s 222us/step - loss: 1.9327 - val_loss: 3.2090\n",
            "Epoch 23/50\n",
            "3397/3397 [==============================] - 1s 220us/step - loss: 1.9342 - val_loss: 3.2964\n",
            "Epoch 24/50\n",
            "3397/3397 [==============================] - 1s 217us/step - loss: 1.9476 - val_loss: 3.6397\n",
            "Epoch 25/50\n",
            "3397/3397 [==============================] - 1s 220us/step - loss: 1.9279 - val_loss: 3.2224\n",
            "Epoch 26/50\n",
            "3397/3397 [==============================] - 1s 215us/step - loss: 1.9193 - val_loss: 3.4126\n",
            "Epoch 27/50\n",
            "3397/3397 [==============================] - 1s 221us/step - loss: 1.9397 - val_loss: 3.6486\n",
            "Epoch 28/50\n",
            "3397/3397 [==============================] - 1s 210us/step - loss: 1.9189 - val_loss: 3.1657\n",
            "Epoch 29/50\n",
            "3397/3397 [==============================] - 1s 219us/step - loss: 1.9069 - val_loss: 3.2350\n",
            "Epoch 30/50\n",
            "3397/3397 [==============================] - 1s 218us/step - loss: 1.8993 - val_loss: 3.2586\n",
            "Epoch 31/50\n",
            "3397/3397 [==============================] - 1s 214us/step - loss: 1.9108 - val_loss: 3.5335\n",
            "Epoch 32/50\n",
            "3397/3397 [==============================] - 1s 217us/step - loss: 1.9015 - val_loss: 3.0773\n",
            "Epoch 33/50\n",
            "3397/3397 [==============================] - 1s 215us/step - loss: 1.8944 - val_loss: 3.2545\n",
            "Epoch 34/50\n",
            "3397/3397 [==============================] - 1s 217us/step - loss: 1.8919 - val_loss: 3.2748\n",
            "Epoch 35/50\n",
            "3397/3397 [==============================] - 1s 212us/step - loss: 1.8990 - val_loss: 3.4420\n",
            "Epoch 36/50\n",
            "3397/3397 [==============================] - 1s 213us/step - loss: 1.8762 - val_loss: 3.4748\n",
            "Epoch 37/50\n",
            "3397/3397 [==============================] - 1s 210us/step - loss: 1.8766 - val_loss: 3.5074\n",
            "Epoch 38/50\n",
            "3397/3397 [==============================] - 1s 221us/step - loss: 1.8956 - val_loss: 3.4130\n",
            "Epoch 39/50\n",
            "3397/3397 [==============================] - 1s 214us/step - loss: 1.8718 - val_loss: 3.4422\n",
            "Epoch 40/50\n",
            "3397/3397 [==============================] - 1s 216us/step - loss: 1.8856 - val_loss: 3.0889\n",
            "Epoch 41/50\n",
            "3397/3397 [==============================] - 1s 219us/step - loss: 1.8630 - val_loss: 3.2996\n",
            "Epoch 42/50\n",
            "3397/3397 [==============================] - 1s 218us/step - loss: 1.8876 - val_loss: 3.3737\n",
            "Epoch 43/50\n",
            "3397/3397 [==============================] - 1s 219us/step - loss: 1.8696 - val_loss: 3.3826\n",
            "Epoch 44/50\n",
            "3397/3397 [==============================] - 1s 222us/step - loss: 1.8544 - val_loss: 3.3770\n",
            "Epoch 45/50\n",
            "3397/3397 [==============================] - 1s 219us/step - loss: 1.8542 - val_loss: 3.3554\n",
            "Epoch 46/50\n",
            "3397/3397 [==============================] - 1s 218us/step - loss: 1.8429 - val_loss: 3.3320\n",
            "Epoch 47/50\n",
            "3397/3397 [==============================] - 1s 217us/step - loss: 1.8442 - val_loss: 3.2062\n",
            "Epoch 48/50\n",
            "3397/3397 [==============================] - 1s 216us/step - loss: 1.8249 - val_loss: 3.1739\n",
            "Epoch 49/50\n",
            "3397/3397 [==============================] - 1s 216us/step - loss: 1.8175 - val_loss: 3.4729\n",
            "Epoch 50/50\n",
            "3397/3397 [==============================] - 1s 220us/step - loss: 1.8090 - val_loss: 3.7109\n"
          ],
          "name": "stdout"
        },
        {
          "output_type": "execute_result",
          "data": {
            "text/plain": [
              "<keras.callbacks.History at 0x7f4d5ffe6b70>"
            ]
          },
          "metadata": {
            "tags": []
          },
          "execution_count": 23
        }
      ]
    },
    {
      "cell_type": "code",
      "metadata": {
        "id": "wXuvL1rFsn6c",
        "colab_type": "code",
        "outputId": "62385797-35cf-4164-b2e5-c6f105b1c8fe",
        "colab": {
          "base_uri": "https://localhost:8080/",
          "height": 516
        }
      },
      "source": [
        "from sklearn.metrics import mean_absolute_error\n",
        "X_val_reshaped = np.reshape(np.array(X_val_sc), (X_val_sc.shape[0], 1, X_val_sc.shape[1]))\n",
        "\n",
        "y_pred_lstm = model_lstm.predict(X_val_reshaped)\n",
        "val_error_lstm = mean_absolute_error(y_val_sc, y_pred_lstm)\n",
        "print(\"LSTM\", val_error_lstm)\n",
        "\n",
        "import matplotlib.pyplot as plt\n",
        "\n",
        "plt.figure(figsize=(16, 8))\n",
        "plt.plot(np.array(y_val_sc), color='g', label='y_val')\n",
        "plt.plot(y_pred_lstm, color='purple', label='lstm')\n",
        "plt.legend()\n",
        "plt.title('Predictions vs actual')\n",
        "plt.show()"
      ],
      "execution_count": 0,
      "outputs": [
        {
          "output_type": "stream",
          "text": [
            "LSTM 1.9942324285240565\n"
          ],
          "name": "stdout"
        },
        {
          "output_type": "display_data",
          "data": {
            "image/png": "[encoded data removed]",
            "text/plain": [
              "<Figure size 1152x576 with 1 Axes>"
            ]
          },
          "metadata": {
            "tags": []
          }
        }
      ]
    },
    {
      "cell_type": "markdown",
      "metadata": {
        "id": "a6WkcfbwhOUv",
        "colab_type": "text"
      },
      "source": [
        ""
      ]
    },
    {
      "cell_type": "markdown",
      "metadata": {
        "id": "9DK6xEAudtzP",
        "colab_type": "text"
      },
      "source": [
        "### GRU\n",
        "過去→未来の方向のみ考慮したモデル。過去の情報もある程度考慮して学習をする。\n",
        "* **CuDNNGRUレイヤ** : GPU環境で使えるGRUレイヤ。素のGRUレイヤよりも高速処理ができる。"
      ]
    },
    {
      "cell_type": "code",
      "metadata": {
        "id": "l8YeLuORkW1h",
        "colab_type": "code",
        "outputId": "b7e32705-b7f9-4f62-b735-80b447f2e250",
        "colab": {
          "base_uri": "https://localhost:8080/",
          "height": 442
        }
      },
      "source": [
        "#GRU\n",
        "\n",
        "model_gru = Sequential()\n",
        "model_gru.add(CuDNNGRU(256, return_sequences = True, input_shape=(None, n_features)))\n",
        "model_gru.add(CuDNNGRU(64))\n",
        "model_gru.add(Dense(1024, activation='relu'))\n",
        "model_gru.add(Dense(512, activation='relu'))\n",
        "model_gru.add(Dense(256, activation='relu'))\n",
        "model_gru.add(Dense(128, activation='hard_sigmoid'))\n",
        "model_gru.add(Dense(10, activation='hard_sigmoid'))\n",
        "model_gru.add(BatchNormalization())\n",
        "#model.add(Dropout(0.2))\n",
        "model_gru.add(Dense(1))\n",
        "\n",
        "model_gru.summary()"
      ],
      "execution_count": 0,
      "outputs": [
        {
          "output_type": "stream",
          "text": [
            "_________________________________________________________________\n",
            "Layer (type)                 Output Shape              Param #   \n",
            "=================================================================\n",
            "cu_dnngru_1 (CuDNNGRU)       (None, None, 256)         246528    \n",
            "_________________________________________________________________\n",
            "cu_dnngru_2 (CuDNNGRU)       (None, 64)                61824     \n",
            "_________________________________________________________________\n",
            "dense_7 (Dense)              (None, 1024)              66560     \n",
            "_________________________________________________________________\n",
            "dense_8 (Dense)              (None, 512)               524800    \n",
            "_________________________________________________________________\n",
            "dense_9 (Dense)              (None, 256)               131328    \n",
            "_________________________________________________________________\n",
            "dense_10 (Dense)             (None, 128)               32896     \n",
            "_________________________________________________________________\n",
            "dense_11 (Dense)             (None, 10)                1290      \n",
            "_________________________________________________________________\n",
            "batch_normalization_5 (Batch (None, 10)                40        \n",
            "_________________________________________________________________\n",
            "dense_12 (Dense)             (None, 1)                 11        \n",
            "=================================================================\n",
            "Total params: 1,065,277\n",
            "Trainable params: 1,065,257\n",
            "Non-trainable params: 20\n",
            "_________________________________________________________________\n"
          ],
          "name": "stdout"
        }
      ]
    },
    {
      "cell_type": "code",
      "metadata": {
        "id": "00GGvKDVkm4Q",
        "colab_type": "code",
        "outputId": "4a337a93-9e74-4e9a-b5f8-9cd051e377f6",
        "colab": {
          "base_uri": "https://localhost:8080/",
          "height": 1751
        }
      },
      "source": [
        "#compile & train RNN model\n",
        "from keras.optimizers import adam\n",
        "model_gru.compile(optimizer = adam(lr=0.00075), loss='MAE')\n",
        "model_gru.fit(X_tr_reshaped, y_tr_sc, epochs=50, batch_size=50, verbose=1, validation_split=0.05)"
      ],
      "execution_count": 0,
      "outputs": [
        {
          "output_type": "stream",
          "text": [
            "Train on 3586 samples, validate on 189 samples\n",
            "Epoch 1/50\n",
            "3586/3586 [==============================] - 2s 460us/step - loss: 5.5233 - val_loss: 8.1184\n",
            "Epoch 2/50\n",
            "3586/3586 [==============================] - 1s 143us/step - loss: 5.2334 - val_loss: 8.6535\n",
            "Epoch 3/50\n",
            "3586/3586 [==============================] - 1s 142us/step - loss: 4.8391 - val_loss: 7.6619\n",
            "Epoch 4/50\n",
            "3586/3586 [==============================] - 0s 139us/step - loss: 4.3221 - val_loss: 9.3644\n",
            "Epoch 5/50\n",
            "3586/3586 [==============================] - 1s 147us/step - loss: 3.6799 - val_loss: 7.8560\n",
            "Epoch 6/50\n",
            "3586/3586 [==============================] - 1s 142us/step - loss: 2.9898 - val_loss: 6.9209\n",
            "Epoch 7/50\n",
            "3586/3586 [==============================] - 1s 147us/step - loss: 2.4411 - val_loss: 5.3776\n",
            "Epoch 8/50\n",
            "3586/3586 [==============================] - 1s 141us/step - loss: 2.1850 - val_loss: 4.9601\n",
            "Epoch 9/50\n",
            "3586/3586 [==============================] - 1s 143us/step - loss: 2.0670 - val_loss: 4.4845\n",
            "Epoch 10/50\n",
            "3586/3586 [==============================] - 0s 139us/step - loss: 2.0348 - val_loss: 6.0415\n",
            "Epoch 11/50\n",
            "3586/3586 [==============================] - 1s 146us/step - loss: 2.0229 - val_loss: 3.7665\n",
            "Epoch 12/50\n",
            "3586/3586 [==============================] - 1s 140us/step - loss: 2.0132 - val_loss: 4.6614\n",
            "Epoch 13/50\n",
            "3586/3586 [==============================] - 1s 143us/step - loss: 2.0046 - val_loss: 4.3563\n",
            "Epoch 14/50\n",
            "3586/3586 [==============================] - 1s 140us/step - loss: 2.0071 - val_loss: 4.0623\n",
            "Epoch 15/50\n",
            "3586/3586 [==============================] - 1s 163us/step - loss: 1.9909 - val_loss: 3.9641\n",
            "Epoch 16/50\n",
            "3586/3586 [==============================] - 1s 164us/step - loss: 1.9909 - val_loss: 4.5467\n",
            "Epoch 17/50\n",
            "3586/3586 [==============================] - 1s 168us/step - loss: 1.9835 - val_loss: 3.9194\n",
            "Epoch 18/50\n",
            "3586/3586 [==============================] - 1s 164us/step - loss: 1.9685 - val_loss: 4.2913\n",
            "Epoch 19/50\n",
            "3586/3586 [==============================] - 1s 167us/step - loss: 1.9536 - val_loss: 3.8329\n",
            "Epoch 20/50\n",
            "3586/3586 [==============================] - 1s 167us/step - loss: 1.9653 - val_loss: 4.3381\n",
            "Epoch 21/50\n",
            "3586/3586 [==============================] - 1s 162us/step - loss: 1.9630 - val_loss: 3.8903\n",
            "Epoch 22/50\n",
            "3586/3586 [==============================] - 1s 165us/step - loss: 1.9478 - val_loss: 3.8282\n",
            "Epoch 23/50\n",
            "3586/3586 [==============================] - 1s 167us/step - loss: 1.9328 - val_loss: 3.9248\n",
            "Epoch 24/50\n",
            "3586/3586 [==============================] - 1s 165us/step - loss: 1.9434 - val_loss: 3.5112\n",
            "Epoch 25/50\n",
            "3586/3586 [==============================] - 1s 165us/step - loss: 1.9431 - val_loss: 3.9364\n",
            "Epoch 26/50\n",
            "3586/3586 [==============================] - 1s 162us/step - loss: 1.9184 - val_loss: 3.9081\n",
            "Epoch 27/50\n",
            "3586/3586 [==============================] - 1s 163us/step - loss: 1.9171 - val_loss: 4.0958\n",
            "Epoch 28/50\n",
            "3586/3586 [==============================] - 1s 165us/step - loss: 1.9364 - val_loss: 3.7924\n",
            "Epoch 29/50\n",
            "3586/3586 [==============================] - 1s 166us/step - loss: 1.9270 - val_loss: 3.8329\n",
            "Epoch 30/50\n",
            "3586/3586 [==============================] - 1s 164us/step - loss: 1.9137 - val_loss: 4.0764\n",
            "Epoch 31/50\n",
            "3586/3586 [==============================] - 1s 163us/step - loss: 1.9065 - val_loss: 3.9326\n",
            "Epoch 32/50\n",
            "3586/3586 [==============================] - 1s 143us/step - loss: 1.9062 - val_loss: 4.1280\n",
            "Epoch 33/50\n",
            "3586/3586 [==============================] - 1s 143us/step - loss: 1.8918 - val_loss: 4.0805\n",
            "Epoch 34/50\n",
            "3586/3586 [==============================] - 0s 139us/step - loss: 1.8811 - val_loss: 4.0407\n",
            "Epoch 35/50\n",
            "3586/3586 [==============================] - 1s 143us/step - loss: 1.8854 - val_loss: 3.8741\n",
            "Epoch 36/50\n",
            "3586/3586 [==============================] - 1s 140us/step - loss: 1.8756 - val_loss: 4.4589\n",
            "Epoch 37/50\n",
            "3586/3586 [==============================] - 1s 143us/step - loss: 1.8654 - val_loss: 4.0928\n",
            "Epoch 38/50\n",
            "3586/3586 [==============================] - 1s 140us/step - loss: 1.8629 - val_loss: 3.6749\n",
            "Epoch 39/50\n",
            "3586/3586 [==============================] - 1s 143us/step - loss: 1.8648 - val_loss: 3.7511\n",
            "Epoch 40/50\n",
            "3586/3586 [==============================] - 1s 141us/step - loss: 1.8277 - val_loss: 3.7724\n",
            "Epoch 41/50\n",
            "3586/3586 [==============================] - 1s 142us/step - loss: 1.8263 - val_loss: 4.6368\n",
            "Epoch 42/50\n",
            "3586/3586 [==============================] - 1s 144us/step - loss: 1.8159 - val_loss: 4.9221\n",
            "Epoch 43/50\n",
            "3586/3586 [==============================] - 1s 141us/step - loss: 1.8015 - val_loss: 4.6113\n",
            "Epoch 44/50\n",
            "3586/3586 [==============================] - 1s 140us/step - loss: 1.7994 - val_loss: 3.5693\n",
            "Epoch 45/50\n",
            "3586/3586 [==============================] - 1s 144us/step - loss: 1.7876 - val_loss: 4.8324\n",
            "Epoch 46/50\n",
            "3586/3586 [==============================] - 1s 140us/step - loss: 1.7914 - val_loss: 4.0571\n",
            "Epoch 47/50\n",
            "3586/3586 [==============================] - 1s 144us/step - loss: 1.7653 - val_loss: 4.1285\n",
            "Epoch 48/50\n",
            "3586/3586 [==============================] - 1s 139us/step - loss: 1.7435 - val_loss: 3.9286\n",
            "Epoch 49/50\n",
            "3586/3586 [==============================] - 1s 144us/step - loss: 1.7760 - val_loss: 4.1972\n",
            "Epoch 50/50\n",
            "3586/3586 [==============================] - 0s 139us/step - loss: 1.7390 - val_loss: 3.7817\n"
          ],
          "name": "stdout"
        },
        {
          "output_type": "execute_result",
          "data": {
            "text/plain": [
              "<keras.callbacks.History at 0x7f4d0e75d198>"
            ]
          },
          "metadata": {
            "tags": []
          },
          "execution_count": 26
        }
      ]
    },
    {
      "cell_type": "code",
      "metadata": {
        "id": "zGs6jl37mrLP",
        "colab_type": "code",
        "outputId": "ea7d7dc2-184a-4a87-b368-2581ef64d733",
        "colab": {
          "base_uri": "https://localhost:8080/",
          "height": 516
        }
      },
      "source": [
        "from sklearn.metrics import mean_absolute_error\n",
        "X_val_reshaped = np.reshape(np.array(X_val_sc), (X_val_sc.shape[0], 1, X_val_sc.shape[1]))\n",
        "\n",
        "y_pred_gru = model_gru.predict(X_val_reshaped)\n",
        "val_error_gru = mean_absolute_error(y_val_sc, y_pred_gru)\n",
        "print(\"GRU\", val_error_gru)\n",
        "\n",
        "import matplotlib.pyplot as plt\n",
        "\n",
        "plt.figure(figsize=(12, 8))\n",
        "plt.plot(np.array(y_val_sc), color='g', label='y_val')\n",
        "plt.plot(y_pred_gru, color='r', label='GRU')\n",
        "plt.legend()\n",
        "plt.title('Predictions vs actual')\n",
        "plt.show()"
      ],
      "execution_count": 0,
      "outputs": [
        {
          "output_type": "stream",
          "text": [
            "GRU 2.3258658459083916\n"
          ],
          "name": "stdout"
        },
        {
          "output_type": "display_data",
          "data": {
            "image/png": "[encoded data removed]",
            "text/plain": [
              "<Figure size 864x576 with 1 Axes>"
            ]
          },
          "metadata": {
            "tags": []
          }
        }
      ]
    },
    {
      "cell_type": "markdown",
      "metadata": {
        "id": "uMo4sc4U_GIt",
        "colab_type": "text"
      },
      "source": [
        "### Simple NN\n",
        "\n",
        "純粋な回帰問題とみなして、ベタなNNのモデルも用意してみた。<br>\n",
        "活性化関数としてreluとhard sigmoidの組み合わせを試した。\n",
        "\n"
      ]
    },
    {
      "cell_type": "code",
      "metadata": {
        "id": "7NIAca9W_FTJ",
        "colab_type": "code",
        "outputId": "7465efd5-66e6-4095-fc3c-0903723b27e4",
        "colab": {
          "base_uri": "https://localhost:8080/",
          "height": 819
        }
      },
      "source": [
        "ACTIVATION = \"hard_sigmoid\"\n",
        "ACTIVATION_2 = \"relu\"\n",
        "\n",
        "model_nn = Sequential()\n",
        "model_nn.add(Dense(1024, input_dim= X_tr_sc.shape[1], activation=ACTIVATION_2))\n",
        "model_nn.add(Dense(512, activation=ACTIVATION_2 ))\n",
        "model_nn.add(Dense(512, activation=ACTIVATION_2 ))\n",
        "model_nn.add(Dropout(0.2))\n",
        "#model_nn.add(BatchNormalization())\n",
        "model_nn.add(Dense(256, activation=ACTIVATION_2 ))\n",
        "model_nn.add(Dense(256, activation=ACTIVATION_2 ))\n",
        "model_nn.add(Dropout(0.2))\n",
        "model_nn.add(BatchNormalization())\n",
        "model_nn.add(Dense(128, activation=ACTIVATION_2 ))\n",
        "model_nn.add(Dense(128, activation=ACTIVATION_2 ))\n",
        "model_nn.add(BatchNormalization())\n",
        "model_nn.add(Dense(64, activation=ACTIVATION_2 ))\n",
        "model_nn.add(Dense(64, activation=ACTIVATION ))\n",
        "model_nn.add(BatchNormalization())\n",
        "model_nn.add(Dense(32, activation=ACTIVATION_2 ))\n",
        "model_nn.add(Dense(32, activation=ACTIVATION ))\n",
        "model_nn.add(BatchNormalization())\n",
        "model_nn.add(Dense(1))\n",
        "\n",
        "model_nn.summary()\n"
      ],
      "execution_count": 0,
      "outputs": [
        {
          "output_type": "stream",
          "text": [
            "WARNING:tensorflow:From /usr/local/lib/python3.6/dist-packages/keras/backend/tensorflow_backend.py:3445: calling dropout (from tensorflow.python.ops.nn_ops) with keep_prob is deprecated and will be removed in a future version.\n",
            "Instructions for updating:\n",
            "Please use `rate` instead of `keep_prob`. Rate should be set to `rate = 1 - keep_prob`.\n",
            "_________________________________________________________________\n",
            "Layer (type)                 Output Shape              Param #   \n",
            "=================================================================\n",
            "dense_13 (Dense)             (None, 1024)              65536     \n",
            "_________________________________________________________________\n",
            "dense_14 (Dense)             (None, 512)               524800    \n",
            "_________________________________________________________________\n",
            "dense_15 (Dense)             (None, 512)               262656    \n",
            "_________________________________________________________________\n",
            "dropout_1 (Dropout)          (None, 512)               0         \n",
            "_________________________________________________________________\n",
            "dense_16 (Dense)             (None, 256)               131328    \n",
            "_________________________________________________________________\n",
            "dense_17 (Dense)             (None, 256)               65792     \n",
            "_________________________________________________________________\n",
            "dropout_2 (Dropout)          (None, 256)               0         \n",
            "_________________________________________________________________\n",
            "batch_normalization_6 (Batch (None, 256)               1024      \n",
            "_________________________________________________________________\n",
            "dense_18 (Dense)             (None, 128)               32896     \n",
            "_________________________________________________________________\n",
            "dense_19 (Dense)             (None, 128)               16512     \n",
            "_________________________________________________________________\n",
            "batch_normalization_7 (Batch (None, 128)               512       \n",
            "_________________________________________________________________\n",
            "dense_20 (Dense)             (None, 64)                8256      \n",
            "_________________________________________________________________\n",
            "dense_21 (Dense)             (None, 64)                4160      \n",
            "_________________________________________________________________\n",
            "batch_normalization_8 (Batch (None, 64)                256       \n",
            "_________________________________________________________________\n",
            "dense_22 (Dense)             (None, 32)                2080      \n",
            "_________________________________________________________________\n",
            "dense_23 (Dense)             (None, 32)                1056      \n",
            "_________________________________________________________________\n",
            "batch_normalization_9 (Batch (None, 32)                128       \n",
            "_________________________________________________________________\n",
            "dense_24 (Dense)             (None, 1)                 33        \n",
            "=================================================================\n",
            "Total params: 1,117,025\n",
            "Trainable params: 1,116,065\n",
            "Non-trainable params: 960\n",
            "_________________________________________________________________\n"
          ],
          "name": "stdout"
        }
      ]
    },
    {
      "cell_type": "code",
      "metadata": {
        "id": "EhLXAKp8QccJ",
        "colab_type": "code",
        "outputId": "537e0e45-ecae-40c7-b964-78fcc105fda2",
        "colab": {
          "base_uri": "https://localhost:8080/",
          "height": 1751
        }
      },
      "source": [
        "model_nn.compile(optimizer=adam(lr=0.00075), loss='MAE')\n",
        "\n",
        "model_nn.fit(X_tr_sc, y_tr_sc, epochs=50, batch_size=50, verbose=1, validation_split=0.05)"
      ],
      "execution_count": 0,
      "outputs": [
        {
          "output_type": "stream",
          "text": [
            "Train on 3586 samples, validate on 189 samples\n",
            "Epoch 1/50\n",
            "3586/3586 [==============================] - 3s 702us/step - loss: 5.4531 - val_loss: 8.1152\n",
            "Epoch 2/50\n",
            "3586/3586 [==============================] - 1s 221us/step - loss: 4.9350 - val_loss: 7.3228\n",
            "Epoch 3/50\n",
            "3586/3586 [==============================] - 1s 219us/step - loss: 4.1612 - val_loss: 6.8347\n",
            "Epoch 4/50\n",
            "3586/3586 [==============================] - 1s 217us/step - loss: 3.1382 - val_loss: 6.1726\n",
            "Epoch 5/50\n",
            "3586/3586 [==============================] - 1s 219us/step - loss: 2.3596 - val_loss: 5.2896\n",
            "Epoch 6/50\n",
            "3586/3586 [==============================] - 1s 219us/step - loss: 2.1315 - val_loss: 5.1590\n",
            "Epoch 7/50\n",
            "3586/3586 [==============================] - 1s 219us/step - loss: 2.0874 - val_loss: 4.6143\n",
            "Epoch 8/50\n",
            "3586/3586 [==============================] - 1s 221us/step - loss: 2.0462 - val_loss: 4.1228\n",
            "Epoch 9/50\n",
            "3586/3586 [==============================] - 1s 221us/step - loss: 2.0314 - val_loss: 3.7957\n",
            "Epoch 10/50\n",
            "3586/3586 [==============================] - 1s 227us/step - loss: 1.9980 - val_loss: 5.0089\n",
            "Epoch 11/50\n",
            "3586/3586 [==============================] - 1s 218us/step - loss: 2.0216 - val_loss: 4.4264\n",
            "Epoch 12/50\n",
            "3586/3586 [==============================] - 1s 221us/step - loss: 1.9874 - val_loss: 4.3838\n",
            "Epoch 13/50\n",
            "3586/3586 [==============================] - 1s 218us/step - loss: 1.9852 - val_loss: 3.9384\n",
            "Epoch 14/50\n",
            "3586/3586 [==============================] - 1s 223us/step - loss: 1.9889 - val_loss: 3.9820\n",
            "Epoch 15/50\n",
            "3586/3586 [==============================] - 1s 223us/step - loss: 2.0005 - val_loss: 4.7121\n",
            "Epoch 16/50\n",
            "3586/3586 [==============================] - 1s 224us/step - loss: 1.9775 - val_loss: 3.6843\n",
            "Epoch 17/50\n",
            "3586/3586 [==============================] - 1s 218us/step - loss: 1.9537 - val_loss: 4.3408\n",
            "Epoch 18/50\n",
            "3586/3586 [==============================] - 1s 219us/step - loss: 1.9554 - val_loss: 4.9169\n",
            "Epoch 19/50\n",
            "3586/3586 [==============================] - 1s 216us/step - loss: 1.9773 - val_loss: 4.3826\n",
            "Epoch 20/50\n",
            "3586/3586 [==============================] - 1s 219us/step - loss: 1.9475 - val_loss: 4.5548\n",
            "Epoch 21/50\n",
            "3586/3586 [==============================] - 1s 219us/step - loss: 1.9349 - val_loss: 4.2126\n",
            "Epoch 22/50\n",
            "3586/3586 [==============================] - 1s 218us/step - loss: 1.9311 - val_loss: 5.0846\n",
            "Epoch 23/50\n",
            "3586/3586 [==============================] - 1s 220us/step - loss: 1.9355 - val_loss: 4.0176\n",
            "Epoch 24/50\n",
            "3586/3586 [==============================] - 1s 220us/step - loss: 1.9186 - val_loss: 4.3346\n",
            "Epoch 25/50\n",
            "3586/3586 [==============================] - 1s 220us/step - loss: 1.9027 - val_loss: 4.8536\n",
            "Epoch 26/50\n",
            "3586/3586 [==============================] - 1s 216us/step - loss: 1.9044 - val_loss: 4.3641\n",
            "Epoch 27/50\n",
            "3586/3586 [==============================] - 1s 221us/step - loss: 1.8921 - val_loss: 3.8713\n",
            "Epoch 28/50\n",
            "3586/3586 [==============================] - 1s 217us/step - loss: 1.8917 - val_loss: 4.1938\n",
            "Epoch 29/50\n",
            "3586/3586 [==============================] - 1s 221us/step - loss: 1.8688 - val_loss: 4.1947\n",
            "Epoch 30/50\n",
            "3586/3586 [==============================] - 1s 217us/step - loss: 1.8867 - val_loss: 4.0318\n",
            "Epoch 31/50\n",
            "3586/3586 [==============================] - 1s 220us/step - loss: 1.8561 - val_loss: 4.5737\n",
            "Epoch 32/50\n",
            "3586/3586 [==============================] - 1s 216us/step - loss: 1.8589 - val_loss: 3.9411\n",
            "Epoch 33/50\n",
            "3586/3586 [==============================] - 1s 218us/step - loss: 1.8201 - val_loss: 4.1838\n",
            "Epoch 34/50\n",
            "3586/3586 [==============================] - 1s 220us/step - loss: 1.8087 - val_loss: 3.9881\n",
            "Epoch 35/50\n",
            "3586/3586 [==============================] - 1s 219us/step - loss: 1.8006 - val_loss: 4.3736\n",
            "Epoch 36/50\n",
            "3586/3586 [==============================] - 1s 218us/step - loss: 1.7691 - val_loss: 4.7149\n",
            "Epoch 37/50\n",
            "3586/3586 [==============================] - 1s 221us/step - loss: 1.7737 - val_loss: 4.5462\n",
            "Epoch 38/50\n",
            "3586/3586 [==============================] - 1s 220us/step - loss: 1.7612 - val_loss: 4.0697\n",
            "Epoch 39/50\n",
            "3586/3586 [==============================] - 1s 219us/step - loss: 1.7772 - val_loss: 4.8383\n",
            "Epoch 40/50\n",
            "3586/3586 [==============================] - 1s 222us/step - loss: 1.7486 - val_loss: 4.3816\n",
            "Epoch 41/50\n",
            "3586/3586 [==============================] - 1s 217us/step - loss: 1.7063 - val_loss: 4.7302\n",
            "Epoch 42/50\n",
            "3586/3586 [==============================] - 1s 223us/step - loss: 1.7161 - val_loss: 4.7934\n",
            "Epoch 43/50\n",
            "3586/3586 [==============================] - 1s 220us/step - loss: 1.6858 - val_loss: 4.2799\n",
            "Epoch 44/50\n",
            "3586/3586 [==============================] - 1s 219us/step - loss: 1.6912 - val_loss: 4.4366\n",
            "Epoch 45/50\n",
            "3586/3586 [==============================] - 1s 220us/step - loss: 1.6758 - val_loss: 4.5455\n",
            "Epoch 46/50\n",
            "3586/3586 [==============================] - 1s 220us/step - loss: 1.6837 - val_loss: 4.7583\n",
            "Epoch 47/50\n",
            "3586/3586 [==============================] - 1s 220us/step - loss: 1.6321 - val_loss: 4.2776\n",
            "Epoch 48/50\n",
            "3586/3586 [==============================] - 1s 219us/step - loss: 1.6232 - val_loss: 4.1291\n",
            "Epoch 49/50\n",
            "3586/3586 [==============================] - 1s 220us/step - loss: 1.6185 - val_loss: 4.0244\n",
            "Epoch 50/50\n",
            "3586/3586 [==============================] - 1s 222us/step - loss: 1.6265 - val_loss: 3.8450\n"
          ],
          "name": "stdout"
        },
        {
          "output_type": "execute_result",
          "data": {
            "text/plain": [
              "<keras.callbacks.History at 0x7f4cc87c7278>"
            ]
          },
          "metadata": {
            "tags": []
          },
          "execution_count": 29
        }
      ]
    },
    {
      "cell_type": "code",
      "metadata": {
        "id": "7wn2m11oSNEN",
        "colab_type": "code",
        "outputId": "56696c38-eae8-403b-e25d-af34dad248e9",
        "colab": {
          "base_uri": "https://localhost:8080/",
          "height": 516
        }
      },
      "source": [
        "from sklearn.metrics import mean_absolute_error\n",
        "y_pred_simplenn = model_nn.predict(X_val_sc)\n",
        "val_error_simplenn = mean_absolute_error(y_val_sc, y_pred_simplenn)\n",
        "print(\"Neural Network\", val_error_simplenn)\n",
        "\n",
        "import matplotlib.pyplot as plt\n",
        "\n",
        "plt.figure(figsize=(12, 8))\n",
        "plt.plot(np.array(y_val_sc), color='g', label='y_val')\n",
        "plt.plot(y_pred_simplenn, color='blue', label='NN')\n",
        "plt.legend()\n",
        "plt.title('Predictions vs actual')\n",
        "plt.show()"
      ],
      "execution_count": 0,
      "outputs": [
        {
          "output_type": "stream",
          "text": [
            "Neural Network 2.420472935904883\n"
          ],
          "name": "stdout"
        },
        {
          "output_type": "display_data",
          "data": {
            "image/png": "[encoded data removed]",
            "text/plain": [
              "<Figure size 864x576 with 1 Axes>"
            ]
          },
          "metadata": {
            "tags": []
          }
        }
      ]
    },
    {
      "cell_type": "markdown",
      "metadata": {
        "id": "DNzyoRIKryJD",
        "colab_type": "text"
      },
      "source": [
        "### まとめ"
      ]
    },
    {
      "cell_type": "code",
      "metadata": {
        "id": "zqrIgwFerxiA",
        "colab_type": "code",
        "outputId": "3a44a8d6-39f5-4ce0-e85d-1734044ee97b",
        "colab": {
          "base_uri": "https://localhost:8080/",
          "height": 429
        }
      },
      "source": [
        "print(\"LSTM\", val_error_lstm)\n",
        "print(\"GRU\", val_error_gru)\n",
        "print(\"Neural Network\", val_error_simplenn)\n",
        "\n",
        "plt.figure(figsize=(12,6))\n",
        "plt.plot(y_pred_lstm, color='purple', label='lstm')\n",
        "plt.plot(y_pred_gru, color='red', label='gru')\n",
        "plt.plot(y_pred_simplenn, color='blue', label='NN')\n",
        "plt.plot(np.stack%)\n",
        "\n",
        "plt.show()\n",
        "\n"
      ],
      "execution_count": 0,
      "outputs": [
        {
          "output_type": "stream",
          "text": [
            "LSTM 1.9942324285240565\n",
            "GRU 2.3258658459083916\n",
            "Neural Network 2.420472935904883\n"
          ],
          "name": "stdout"
        },
        {
          "output_type": "display_data",
          "data": {
            "image/png": "[encoded data removed]",
            "text/plain": [
              "<Figure size 864x432 with 1 Axes>"
            ]
          },
          "metadata": {
            "tags": []
          }
        }
      ]
    },
    {
      "cell_type": "markdown",
      "metadata": {
        "id": "k8xDogfEdMeH",
        "colab_type": "text"
      },
      "source": [
        "**考察**<br>\n",
        "* モデルは地震発生後はTTFが増加し、振れ幅はあれど減少方向に向かうことは学習できている。\n",
        "* 地震発生に近づくにつれて誤差は小さくなっているように見受けられる。\n",
        "* しかしやはりまだ地震発生直後（リセット後）のTTFの予測が外れると、そこからは修正できず、結果誤差が大きくなってしまっている。\n",
        "* 上方向にズレた時は一定の値以下に抑えられているが、下方向にズレた時は対処できていない。"
      ]
    },
    {
      "cell_type": "code",
      "metadata": {
        "id": "zOepnQpESCx6",
        "colab_type": "code",
        "colab": {}
      },
      "source": [
        "!unzip test.zip"
      ],
      "execution_count": 0,
      "outputs": []
    },
    {
      "cell_type": "code",
      "metadata": {
        "id": "FWgRtERIUOW4",
        "colab_type": "code",
        "outputId": "4e3b4001-27bc-41e9-a5a0-892d600b9867",
        "colab": {
          "base_uri": "https://localhost:8080/",
          "height": 51
        }
      },
      "source": [
        "submission = pd.read_csv('sample_submission.csv', index_col='seg_id')\n",
        "X_test = pd.DataFrame()\n",
        "X_test_max={}\n",
        "\n",
        "for seg_id in submission.index:\n",
        "    seg = pd.read_csv(seg_id + '.csv')\n",
        "    ch = gen_features(seg['acoustic_data'], thresholds=precursor_thresholds)\n",
        "    X_test = X_test.append(ch, ignore_index=True)\n",
        "\n",
        "X_test_sc = sc.fit_transform(X_test)\n",
        "    \n",
        "print(X_test.shape)\n",
        "print(sub.shape)"
      ],
      "execution_count": 0,
      "outputs": [
        {
          "output_type": "stream",
          "text": [
            "(39360, 32)\n",
            "(2624, 1)\n"
          ],
          "name": "stdout"
        }
      ]
    },
    {
      "cell_type": "code",
      "metadata": {
        "id": "KzUFIrE5UEJs",
        "colab_type": "code",
        "colab": {}
      },
      "source": [
        "X_test_reshaped = np.reshape(np.array(X_test_sc), (X_test.shape[0], 1, X_test.shape[1]))\n",
        "\n",
        "pred_lstm = model_lstm.predict(X_test_reshaped)\n",
        "pred_gru = model_gru.predict(X_test_reshaped)\n",
        "pred_nn = model_nn.predict(X_test_sc)\n",
        "\n",
        "pred_blend =pred_blend_min = np.stack([np.reshape(pred_lstm, (pred_lstm.shape[0],)), np.reshape(pred_gru, (pred_gru.shape[0],)), pred_nn], axis=1).mean(axis=1)\n",
        "\n",
        "plt.figure(figsize=(12, 8))\n",
        "plt.plot(pred_lstm[:100], color='purple', label='LSTM')\n",
        "plt.plot(pred_gru[:100], color='red', label='GRU')\n",
        "plt.plot(pred_nn[:100], color='blue', label='NeuralNet')\n",
        "plt.plot(pred_blend[:100], color='green', label='Blend')\n",
        "plt.legend()\n",
        "plt.title('Predictions')\n",
        "plt.show()"
      ],
      "execution_count": 0,
      "outputs": []
    },
    {
      "cell_type": "code",
      "metadata": {
        "id": "DGhygCs_W4-f",
        "colab_type": "code",
        "colab": {}
      },
      "source": [
        "submission['time_to_failure'] = pred_y\n",
        "submission.to_csv('submission_tnb.csv')"
      ],
      "execution_count": 0,
      "outputs": []
    },
    {
      "cell_type": "code",
      "metadata": {
        "id": "3-M2XHKsX5tC",
        "colab_type": "code",
        "outputId": "98b043ec-21d0-44f9-9f89-48614d43936b",
        "colab": {
          "base_uri": "https://localhost:8080/",
          "height": 204
        }
      },
      "source": [
        "sub_df = pd.read_csv('submission_rnn.csv')\n",
        "sub_df.head()"
      ],
      "execution_count": 0,
      "outputs": [
        {
          "output_type": "execute_result",
          "data": {
            "text/html": [
              "<div>\n",
              "<style scoped>\n",
              "    .dataframe tbody tr th:only-of-type {\n",
              "        vertical-align: middle;\n",
              "    }\n",
              "\n",
              "    .dataframe tbody tr th {\n",
              "        vertical-align: top;\n",
              "    }\n",
              "\n",
              "    .dataframe thead th {\n",
              "        text-align: right;\n",
              "    }\n",
              "</style>\n",
              "<table border=\"1\" class=\"dataframe\">\n",
              "  <thead>\n",
              "    <tr style=\"text-align: right;\">\n",
              "      <th></th>\n",
              "      <th>seg_id</th>\n",
              "      <th>time_to_failure</th>\n",
              "    </tr>\n",
              "  </thead>\n",
              "  <tbody>\n",
              "    <tr>\n",
              "      <th>0</th>\n",
              "      <td>seg_00030f</td>\n",
              "      <td>4.975380</td>\n",
              "    </tr>\n",
              "    <tr>\n",
              "      <th>1</th>\n",
              "      <td>seg_0012b5</td>\n",
              "      <td>4.032060</td>\n",
              "    </tr>\n",
              "    <tr>\n",
              "      <th>2</th>\n",
              "      <td>seg_00184e</td>\n",
              "      <td>5.744460</td>\n",
              "    </tr>\n",
              "    <tr>\n",
              "      <th>3</th>\n",
              "      <td>seg_003339</td>\n",
              "      <td>5.889573</td>\n",
              "    </tr>\n",
              "    <tr>\n",
              "      <th>4</th>\n",
              "      <td>seg_0042cc</td>\n",
              "      <td>6.054456</td>\n",
              "    </tr>\n",
              "  </tbody>\n",
              "</table>\n",
              "</div>"
            ],
            "text/plain": [
              "       seg_id  time_to_failure\n",
              "0  seg_00030f         4.975380\n",
              "1  seg_0012b5         4.032060\n",
              "2  seg_00184e         5.744460\n",
              "3  seg_003339         5.889573\n",
              "4  seg_0042cc         6.054456"
            ]
          },
          "metadata": {
            "tags": []
          },
          "execution_count": 174
        }
      ]
    },
    {
      "cell_type": "code",
      "metadata": {
        "id": "6udkTEotYClc",
        "colab_type": "code",
        "outputId": "f75ca706-4275-435a-b1ec-9fecea14e82e",
        "colab": {
          "base_uri": "https://localhost:8080/",
          "height": 68
        }
      },
      "source": [
        "!kaggle competitions submit -c LANL-Earthquake-Prediction -f submission_birnn.csv -m \"190501_bidirectional rnn\""
      ],
      "execution_count": 0,
      "outputs": [
        {
          "output_type": "stream",
          "text": [
            "Warning: Your Kaggle API key is readable by other users on this system! To fix this, you can run 'chmod 600 /root/.kaggle/kaggle.json'\n",
            "100% 52.5k/52.5k [00:01<00:00, 33.3kB/s]\n",
            "Successfully submitted to LANL Earthquake Prediction"
          ],
          "name": "stdout"
        }
      ]
    },
    {
      "cell_type": "code",
      "metadata": {
        "id": "KZT2FHR2ZA4B",
        "colab_type": "code",
        "colab": {}
      },
      "source": [
        ""
      ],
      "execution_count": 0,
      "outputs": []
    }
  ]
}